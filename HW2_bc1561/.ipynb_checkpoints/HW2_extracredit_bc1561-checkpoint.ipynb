{
 "cells": [
  {
   "cell_type": "code",
   "execution_count": 2,
   "metadata": {
    "collapsed": false
   },
   "outputs": [
    {
     "data": {
      "text/plain": [
       "'/gws/open/NYCOpenData/nycopendata/data'"
      ]
     },
     "execution_count": 2,
     "metadata": {},
     "output_type": "execute_result"
    }
   ],
   "source": [
    "import os\n",
    "import numpy as np\n",
    "from numpy.random import randn\n",
    "import pylab as pl\n",
    "import sys\n",
    "from pandas import Series, DataFrame\n",
    "import pandas\n",
    "import pandas as pd\n",
    "\n",
    "os.getenv(\"DFDATA\")"
   ]
  },
  {
   "cell_type": "code",
   "execution_count": 3,
   "metadata": {
    "collapsed": true
   },
   "outputs": [],
   "source": [
    "DFdata = os.getenv(\"DFDATA\")"
   ]
  },
  {
   "cell_type": "code",
   "execution_count": 4,
   "metadata": {
    "collapsed": false
   },
   "outputs": [
    {
     "data": {
      "text/plain": [
       "'/gws/open/NYCOpenData/nycopendata/data'"
      ]
     },
     "execution_count": 4,
     "metadata": {},
     "output_type": "execute_result"
    }
   ],
   "source": [
    "DFdata"
   ]
  },
  {
   "cell_type": "code",
   "execution_count": 5,
   "metadata": {
    "collapsed": false
   },
   "outputs": [],
   "source": [
    "df = pd.read_csv(DFdata + '/h9gi-nx95/1482192000/h9gi-nx95.csv', index_col = False)"
   ]
  },
  {
   "cell_type": "code",
   "execution_count": 6,
   "metadata": {
    "collapsed": false
   },
   "outputs": [],
   "source": [
    "df.head(5)\n",
    "np.random.seed(5)\n",
    "rando = [np.random.randint(0,990800) for i in range(0,2000)]"
   ]
  },
  {
   "cell_type": "markdown",
   "metadata": {},
   "source": [
    "### since the data set is so large, we are randomly picking 2000 points here for further analysis"
   ]
  },
  {
   "cell_type": "code",
   "execution_count": 14,
   "metadata": {
    "collapsed": false
   },
   "outputs": [],
   "source": [
    "df2 = df[['DATE', 'TIME','NUMBER OF CYCLIST INJURED']]\n",
    "df2 = df2.loc[rando,:]"
   ]
  },
  {
   "cell_type": "code",
   "execution_count": 15,
   "metadata": {
    "collapsed": false
   },
   "outputs": [],
   "source": [
    "df2['DATETIME_str'] =df['DATE'] + ' ' + df['TIME']"
   ]
  },
  {
   "cell_type": "code",
   "execution_count": 16,
   "metadata": {
    "collapsed": false
   },
   "outputs": [],
   "source": [
    "df2['DATETIME'] = pd.to_datetime(df2['DATETIME_str'])"
   ]
  },
  {
   "cell_type": "code",
   "execution_count": 17,
   "metadata": {
    "collapsed": false
   },
   "outputs": [
    {
     "data": {
      "text/html": [
       "<div>\n",
       "<table border=\"1\" class=\"dataframe\">\n",
       "  <thead>\n",
       "    <tr style=\"text-align: right;\">\n",
       "      <th></th>\n",
       "      <th>DATE</th>\n",
       "      <th>TIME</th>\n",
       "      <th>NUMBER OF CYCLIST INJURED</th>\n",
       "      <th>DATETIME_str</th>\n",
       "      <th>DATETIME</th>\n",
       "    </tr>\n",
       "  </thead>\n",
       "  <tbody>\n",
       "    <tr>\n",
       "      <th>297827</th>\n",
       "      <td>04/27/2016</td>\n",
       "      <td>16:08</td>\n",
       "      <td>0</td>\n",
       "      <td>04/27/2016 16:08</td>\n",
       "      <td>2016-04-27 16:08:00</td>\n",
       "    </tr>\n",
       "    <tr>\n",
       "      <th>18638</th>\n",
       "      <td>12/08/2015</td>\n",
       "      <td>8:10</td>\n",
       "      <td>0</td>\n",
       "      <td>12/08/2015 8:10</td>\n",
       "      <td>2015-12-08 08:10:00</td>\n",
       "    </tr>\n",
       "    <tr>\n",
       "      <th>544751</th>\n",
       "      <td>04/27/2016</td>\n",
       "      <td>12:30</td>\n",
       "      <td>0</td>\n",
       "      <td>04/27/2016 12:30</td>\n",
       "      <td>2016-04-27 12:30:00</td>\n",
       "    </tr>\n",
       "    <tr>\n",
       "      <th>124605</th>\n",
       "      <td>07/02/2015</td>\n",
       "      <td>8:30</td>\n",
       "      <td>0</td>\n",
       "      <td>07/02/2015 8:30</td>\n",
       "      <td>2015-07-02 08:30:00</td>\n",
       "    </tr>\n",
       "    <tr>\n",
       "      <th>756710</th>\n",
       "      <td>02/10/2013</td>\n",
       "      <td>16:00</td>\n",
       "      <td>0</td>\n",
       "      <td>02/10/2013 16:00</td>\n",
       "      <td>2013-02-10 16:00:00</td>\n",
       "    </tr>\n",
       "  </tbody>\n",
       "</table>\n",
       "</div>"
      ],
      "text/plain": [
       "              DATE   TIME  NUMBER OF CYCLIST INJURED      DATETIME_str  \\\n",
       "297827  04/27/2016  16:08                          0  04/27/2016 16:08   \n",
       "18638   12/08/2015   8:10                          0   12/08/2015 8:10   \n",
       "544751  04/27/2016  12:30                          0  04/27/2016 12:30   \n",
       "124605  07/02/2015   8:30                          0   07/02/2015 8:30   \n",
       "756710  02/10/2013  16:00                          0  02/10/2013 16:00   \n",
       "\n",
       "                  DATETIME  \n",
       "297827 2016-04-27 16:08:00  \n",
       "18638  2015-12-08 08:10:00  \n",
       "544751 2016-04-27 12:30:00  \n",
       "124605 2015-07-02 08:30:00  \n",
       "756710 2013-02-10 16:00:00  "
      ]
     },
     "execution_count": 17,
     "metadata": {},
     "output_type": "execute_result"
    }
   ],
   "source": [
    "df2.head(5)"
   ]
  },
  {
   "cell_type": "code",
   "execution_count": 18,
   "metadata": {
    "collapsed": false
   },
   "outputs": [
    {
     "data": {
      "image/png": "[encoded data removed]",
      "text/plain": [
       "<matplotlib.figure.Figure at 0x7f0c721e3c50>"
      ]
     },
     "metadata": {},
     "output_type": "display_data"
    }
   ],
   "source": [
    "x = df2['DATETIME']\n",
    "y = df2['NUMBER OF CYCLIST INJURED']\n",
    "pl.plot(x, y, 'o')\n",
    "pl.xlabel(\"time\")\n",
    "pl.xticks(rotation=45)\n",
    "pl.ylabel(\"Number of Cyclist injured\")\n",
    "pl.title('Scatter plot of numbers of cyclist injured in accidents')\n",
    "pl.show()"
   ]
  }
 ],
 "metadata": {
  "kernelspec": {
   "display_name": "PUI2016_Python3",
   "language": "python",
   "name": "pui2016_python3"
  },
  "language_info": {
   "codemirror_mode": {
    "name": "ipython",
    "version": 3
   },
   "file_extension": ".py",
   "mimetype": "text/x-python",
   "name": "python",
   "nbconvert_exporter": "python",
   "pygments_lexer": "ipython3",
   "version": "3.5.2"
  }
 },
 "nbformat": 4,
 "nbformat_minor": 0
}
