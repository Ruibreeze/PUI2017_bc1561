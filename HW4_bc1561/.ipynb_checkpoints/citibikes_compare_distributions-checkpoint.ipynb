{
 "cells": [
  {
   "cell_type": "markdown",
   "metadata": {
    "collapsed": true,
    "run_control": {
     "frozen": false,
     "read_only": false
    }
   },
   "source": [
    "# Skeleton of Assignment 4:\n",
    "    test if the distribution of \n",
    "    \n",
    "    1) trip duration of bikers that ride during the day vs night\n",
    "    \n",
    "    2) age of bikers for trips originating in Manhattan and in Brooklyn\n",
    "    \n",
    "    are different. Use 3 tests: KS, Pearson's, Spearman's. \n",
    "    \n",
    "    Use the scipy.stats functions scipy.stats.ks_2samp, scipy.stats.pearsonr, scipy.stats.spearmanr. \n",
    "    \n",
    "    For the KS do the test with the entire dataset and with a subset 200 times smaller\n",
    "    \n",
    "    Choose a single significant threshold for the whole exercise. \n",
    "    \n",
    "    For each test phrase the Null Hypothesis in words.\n",
    "    \n",
    "    Describe the return of the scipy function you use in each case.\n",
    "    \n",
    "    State the result in terms of rejection of the Null."
   ]
  },
  {
   "cell_type": "code",
   "execution_count": 1,
   "metadata": {
    "ExecuteTime": {
     "end_time": "2017-10-05T16:48:06.390950",
     "start_time": "2017-10-05T16:48:04.815178"
    },
    "run_control": {
     "frozen": false,
     "read_only": false
    },
    "scrolled": true
   },
   "outputs": [
    {
     "name": "stdout",
     "output_type": "stream",
     "text": [
      "Populating the interactive namespace from numpy and matplotlib\n"
     ]
    }
   ],
   "source": [
    "# my usual imports and setups\n",
    "import pylab as pl\n",
    "import pandas as pd\n",
    "import numpy as np\n",
    "\n",
    "%pylab inline\n",
    "import os"
   ]
  },
  {
   "cell_type": "markdown",
   "metadata": {
    "run_control": {
     "frozen": false,
     "read_only": false
    }
   },
   "source": [
    "# Read in data\n",
    "I am reading in data from January 2015 with the function that I created getCitiBikeCSV. You are requested to use 2 months at least. It would be a good idea to use data from a colder and a warmer months, since there are more riders in the warm weather and ridership patterns may change with weather, temperature, etc. You should use data from multiple months, joining multiple datasets (thus addressing some systematic errors as well)"
   ]
  },
  {
   "cell_type": "code",
   "execution_count": 119,
   "metadata": {
    "ExecuteTime": {
     "end_time": "2017-10-05T16:48:09.386484",
     "start_time": "2017-10-05T16:48:06.821336"
    },
    "run_control": {
     "frozen": false,
     "read_only": false
    }
   },
   "outputs": [],
   "source": [
    "df1 = pd.read_csv('https://s3.amazonaws.com/tripdata/201604-citibike-tripdata.zip', compression = 'zip')\n",
    "df2 = pd.read_csv('https://s3.amazonaws.com/tripdata/201612-citibike-tripdata.zip', compression = 'zip')"
   ]
  },
  {
   "cell_type": "code",
   "execution_count": 120,
   "metadata": {
    "ExecuteTime": {
     "end_time": "2017-10-05T16:48:11.528975",
     "start_time": "2017-10-05T16:48:10.267002"
    },
    "run_control": {
     "frozen": false,
     "read_only": false
    }
   },
   "outputs": [
    {
     "data": {
      "text/html": [
       "<div>\n",
       "<style>\n",
       "    .dataframe thead tr:only-child th {\n",
       "        text-align: right;\n",
       "    }\n",
       "\n",
       "    .dataframe thead th {\n",
       "        text-align: left;\n",
       "    }\n",
       "\n",
       "    .dataframe tbody tr th {\n",
       "        vertical-align: top;\n",
       "    }\n",
       "</style>\n",
       "<table border=\"1\" class=\"dataframe\">\n",
       "  <thead>\n",
       "    <tr style=\"text-align: right;\">\n",
       "      <th></th>\n",
       "      <th>Bike ID</th>\n",
       "      <th>Birth Year</th>\n",
       "      <th>End Station ID</th>\n",
       "      <th>End Station Latitude</th>\n",
       "      <th>End Station Longitude</th>\n",
       "      <th>End Station Name</th>\n",
       "      <th>Gender</th>\n",
       "      <th>Start Station ID</th>\n",
       "      <th>Start Station Latitude</th>\n",
       "      <th>Start Station Longitude</th>\n",
       "      <th>...</th>\n",
       "      <th>end station name</th>\n",
       "      <th>gender</th>\n",
       "      <th>start station id</th>\n",
       "      <th>start station latitude</th>\n",
       "      <th>start station longitude</th>\n",
       "      <th>start station name</th>\n",
       "      <th>starttime</th>\n",
       "      <th>stoptime</th>\n",
       "      <th>tripduration</th>\n",
       "      <th>usertype</th>\n",
       "    </tr>\n",
       "  </thead>\n",
       "  <tbody>\n",
       "    <tr>\n",
       "      <th>0</th>\n",
       "      <td>NaN</td>\n",
       "      <td>NaN</td>\n",
       "      <td>NaN</td>\n",
       "      <td>NaN</td>\n",
       "      <td>NaN</td>\n",
       "      <td>NaN</td>\n",
       "      <td>NaN</td>\n",
       "      <td>NaN</td>\n",
       "      <td>NaN</td>\n",
       "      <td>NaN</td>\n",
       "      <td>...</td>\n",
       "      <td>St Marks Pl &amp; 2 Ave</td>\n",
       "      <td>1.0</td>\n",
       "      <td>254.0</td>\n",
       "      <td>40.735324</td>\n",
       "      <td>-73.998004</td>\n",
       "      <td>W 11 St &amp; 6 Ave</td>\n",
       "      <td>4/1/2016 00:00:26</td>\n",
       "      <td>4/1/2016 00:08:42</td>\n",
       "      <td>496.0</td>\n",
       "      <td>Subscriber</td>\n",
       "    </tr>\n",
       "    <tr>\n",
       "      <th>1</th>\n",
       "      <td>NaN</td>\n",
       "      <td>NaN</td>\n",
       "      <td>NaN</td>\n",
       "      <td>NaN</td>\n",
       "      <td>NaN</td>\n",
       "      <td>NaN</td>\n",
       "      <td>NaN</td>\n",
       "      <td>NaN</td>\n",
       "      <td>NaN</td>\n",
       "      <td>NaN</td>\n",
       "      <td>...</td>\n",
       "      <td>Clinton St &amp; Grand St</td>\n",
       "      <td>1.0</td>\n",
       "      <td>311.0</td>\n",
       "      <td>40.717227</td>\n",
       "      <td>-73.988021</td>\n",
       "      <td>Norfolk St &amp; Broome St</td>\n",
       "      <td>4/1/2016 00:00:27</td>\n",
       "      <td>4/1/2016 00:02:12</td>\n",
       "      <td>104.0</td>\n",
       "      <td>Subscriber</td>\n",
       "    </tr>\n",
       "    <tr>\n",
       "      <th>2</th>\n",
       "      <td>NaN</td>\n",
       "      <td>NaN</td>\n",
       "      <td>NaN</td>\n",
       "      <td>NaN</td>\n",
       "      <td>NaN</td>\n",
       "      <td>NaN</td>\n",
       "      <td>NaN</td>\n",
       "      <td>NaN</td>\n",
       "      <td>NaN</td>\n",
       "      <td>NaN</td>\n",
       "      <td>...</td>\n",
       "      <td>Pulaski St &amp; Marcus Garvey Blvd</td>\n",
       "      <td>1.0</td>\n",
       "      <td>3064.0</td>\n",
       "      <td>40.696820</td>\n",
       "      <td>-73.937569</td>\n",
       "      <td>Myrtle Ave &amp; Lewis Ave</td>\n",
       "      <td>4/1/2016 00:00:30</td>\n",
       "      <td>4/1/2016 00:02:38</td>\n",
       "      <td>128.0</td>\n",
       "      <td>Subscriber</td>\n",
       "    </tr>\n",
       "    <tr>\n",
       "      <th>3</th>\n",
       "      <td>NaN</td>\n",
       "      <td>NaN</td>\n",
       "      <td>NaN</td>\n",
       "      <td>NaN</td>\n",
       "      <td>NaN</td>\n",
       "      <td>NaN</td>\n",
       "      <td>NaN</td>\n",
       "      <td>NaN</td>\n",
       "      <td>NaN</td>\n",
       "      <td>NaN</td>\n",
       "      <td>...</td>\n",
       "      <td>8 Ave &amp; W 33 St</td>\n",
       "      <td>1.0</td>\n",
       "      <td>3156.0</td>\n",
       "      <td>40.766638</td>\n",
       "      <td>-73.953483</td>\n",
       "      <td>E 72 St &amp; York Ave</td>\n",
       "      <td>4/1/2016 00:00:34</td>\n",
       "      <td>4/1/2016 00:20:31</td>\n",
       "      <td>1197.0</td>\n",
       "      <td>Subscriber</td>\n",
       "    </tr>\n",
       "    <tr>\n",
       "      <th>4</th>\n",
       "      <td>NaN</td>\n",
       "      <td>NaN</td>\n",
       "      <td>NaN</td>\n",
       "      <td>NaN</td>\n",
       "      <td>NaN</td>\n",
       "      <td>NaN</td>\n",
       "      <td>NaN</td>\n",
       "      <td>NaN</td>\n",
       "      <td>NaN</td>\n",
       "      <td>NaN</td>\n",
       "      <td>...</td>\n",
       "      <td>Washington St &amp; Gansevoort St</td>\n",
       "      <td>2.0</td>\n",
       "      <td>116.0</td>\n",
       "      <td>40.741776</td>\n",
       "      <td>-74.001497</td>\n",
       "      <td>W 17 St &amp; 8 Ave</td>\n",
       "      <td>4/1/2016 00:00:46</td>\n",
       "      <td>4/1/2016 00:07:46</td>\n",
       "      <td>419.0</td>\n",
       "      <td>Subscriber</td>\n",
       "    </tr>\n",
       "  </tbody>\n",
       "</table>\n",
       "<p>5 rows × 30 columns</p>\n",
       "</div>"
      ],
      "text/plain": [
       "   Bike ID  Birth Year  End Station ID  End Station Latitude  \\\n",
       "0      NaN         NaN             NaN                   NaN   \n",
       "1      NaN         NaN             NaN                   NaN   \n",
       "2      NaN         NaN             NaN                   NaN   \n",
       "3      NaN         NaN             NaN                   NaN   \n",
       "4      NaN         NaN             NaN                   NaN   \n",
       "\n",
       "   End Station Longitude End Station Name  Gender  Start Station ID  \\\n",
       "0                    NaN              NaN     NaN               NaN   \n",
       "1                    NaN              NaN     NaN               NaN   \n",
       "2                    NaN              NaN     NaN               NaN   \n",
       "3                    NaN              NaN     NaN               NaN   \n",
       "4                    NaN              NaN     NaN               NaN   \n",
       "\n",
       "   Start Station Latitude  Start Station Longitude     ...      \\\n",
       "0                     NaN                      NaN     ...       \n",
       "1                     NaN                      NaN     ...       \n",
       "2                     NaN                      NaN     ...       \n",
       "3                     NaN                      NaN     ...       \n",
       "4                     NaN                      NaN     ...       \n",
       "\n",
       "                  end station name gender start station id  \\\n",
       "0              St Marks Pl & 2 Ave    1.0            254.0   \n",
       "1            Clinton St & Grand St    1.0            311.0   \n",
       "2  Pulaski St & Marcus Garvey Blvd    1.0           3064.0   \n",
       "3                  8 Ave & W 33 St    1.0           3156.0   \n",
       "4    Washington St & Gansevoort St    2.0            116.0   \n",
       "\n",
       "   start station latitude start station longitude      start station name  \\\n",
       "0               40.735324              -73.998004         W 11 St & 6 Ave   \n",
       "1               40.717227              -73.988021  Norfolk St & Broome St   \n",
       "2               40.696820              -73.937569  Myrtle Ave & Lewis Ave   \n",
       "3               40.766638              -73.953483      E 72 St & York Ave   \n",
       "4               40.741776              -74.001497         W 17 St & 8 Ave   \n",
       "\n",
       "           starttime           stoptime  tripduration    usertype  \n",
       "0  4/1/2016 00:00:26  4/1/2016 00:08:42         496.0  Subscriber  \n",
       "1  4/1/2016 00:00:27  4/1/2016 00:02:12         104.0  Subscriber  \n",
       "2  4/1/2016 00:00:30  4/1/2016 00:02:38         128.0  Subscriber  \n",
       "3  4/1/2016 00:00:34  4/1/2016 00:20:31        1197.0  Subscriber  \n",
       "4  4/1/2016 00:00:46  4/1/2016 00:07:46         419.0  Subscriber  \n",
       "\n",
       "[5 rows x 30 columns]"
      ]
     },
     "execution_count": 120,
     "metadata": {},
     "output_type": "execute_result"
    }
   ],
   "source": [
    "df = pd.concat([df1, df2])\n",
    "df.head()"
   ]
  },
  {
   "cell_type": "code",
   "execution_count": 121,
   "metadata": {},
   "outputs": [
    {
     "data": {
      "text/plain": [
       "Index(['Bike ID', 'Birth Year', 'End Station ID', 'End Station Latitude',\n",
       "       'End Station Longitude', 'End Station Name', 'Gender',\n",
       "       'Start Station ID', 'Start Station Latitude', 'Start Station Longitude',\n",
       "       'Start Station Name', 'Start Time', 'Stop Time', 'Trip Duration',\n",
       "       'User Type', 'bikeid', 'birth year', 'end station id',\n",
       "       'end station latitude', 'end station longitude', 'end station name',\n",
       "       'gender', 'start station id', 'start station latitude',\n",
       "       'start station longitude', 'start station name', 'starttime',\n",
       "       'stoptime', 'tripduration', 'usertype'],\n",
       "      dtype='object')"
      ]
     },
     "execution_count": 121,
     "metadata": {},
     "output_type": "execute_result"
    }
   ],
   "source": [
    "df.columns"
   ]
  },
  {
   "cell_type": "markdown",
   "metadata": {
    "run_control": {
     "frozen": false,
     "read_only": false
    }
   },
   "source": [
    "# 1) trip duration of bikers that ride during the day vs night\n",
    "\n",
    "**H0: there is no statistical difference in the trip duration of bikers at day time vs at night**\n",
    "$$ \\alpha = 0.05 $$"
   ]
  },
  {
   "cell_type": "code",
   "execution_count": 122,
   "metadata": {
    "ExecuteTime": {
     "end_time": "2017-10-05T16:55:03.392271",
     "start_time": "2017-10-05T16:55:02.902521"
    },
    "run_control": {
     "frozen": false,
     "read_only": false
    }
   },
   "outputs": [
    {
     "name": "stderr",
     "output_type": "stream",
     "text": [
      "/home/baiyue/anaconda3/lib/python3.6/site-packages/ipykernel_launcher.py:2: SettingWithCopyWarning: \n",
      "A value is trying to be set on a copy of a slice from a DataFrame.\n",
      "Try using .loc[row_indexer,col_indexer] = value instead\n",
      "\n",
      "See the caveats in the documentation: http://pandas.pydata.org/pandas-docs/stable/indexing.html#indexing-view-versus-copy\n",
      "  \n",
      "/home/baiyue/anaconda3/lib/python3.6/site-packages/ipykernel_launcher.py:3: SettingWithCopyWarning: \n",
      "A value is trying to be set on a copy of a slice from a DataFrame.\n",
      "Try using .loc[row_indexer,col_indexer] = value instead\n",
      "\n",
      "See the caveats in the documentation: http://pandas.pydata.org/pandas-docs/stable/indexing.html#indexing-view-versus-copy\n",
      "  This is separate from the ipykernel package so we can avoid doing imports until\n"
     ]
    }
   ],
   "source": [
    "df1 = df[['Trip Duration', 'Start Time']]\n",
    "df1['date'] = pd.to_datetime(df1['Start Time'])\n",
    "df1['hour'] = list(map(lambda x: x.hour, df1.date))"
   ]
  },
  {
   "cell_type": "code",
   "execution_count": 123,
   "metadata": {
    "scrolled": true
   },
   "outputs": [
    {
     "name": "stderr",
     "output_type": "stream",
     "text": [
      "/home/baiyue/anaconda3/lib/python3.6/site-packages/ipykernel_launcher.py:1: SettingWithCopyWarning: \n",
      "A value is trying to be set on a copy of a slice from a DataFrame.\n",
      "Try using .loc[row_indexer,col_indexer] = value instead\n",
      "\n",
      "See the caveats in the documentation: http://pandas.pydata.org/pandas-docs/stable/indexing.html#indexing-view-versus-copy\n",
      "  \"\"\"Entry point for launching an IPython kernel.\n"
     ]
    }
   ],
   "source": [
    "df1['day_or_night'] = list(map(lambda x: int((x >= 6) & (x <= 19)), df1.hour))"
   ]
  },
  {
   "cell_type": "code",
   "execution_count": 126,
   "metadata": {},
   "outputs": [
    {
     "name": "stderr",
     "output_type": "stream",
     "text": [
      "/home/baiyue/anaconda3/lib/python3.6/site-packages/ipykernel_launcher.py:1: SettingWithCopyWarning: \n",
      "A value is trying to be set on a copy of a slice from a DataFrame.\n",
      "Try using .loc[row_indexer,col_indexer] = value instead\n",
      "\n",
      "See the caveats in the documentation: http://pandas.pydata.org/pandas-docs/stable/indexing.html#indexing-view-versus-copy\n",
      "  \"\"\"Entry point for launching an IPython kernel.\n",
      "/home/baiyue/anaconda3/lib/python3.6/site-packages/ipykernel_launcher.py:2: SettingWithCopyWarning: \n",
      "A value is trying to be set on a copy of a slice from a DataFrame.\n",
      "Try using .loc[row_indexer,col_indexer] = value instead\n",
      "\n",
      "See the caveats in the documentation: http://pandas.pydata.org/pandas-docs/stable/indexing.html#indexing-view-versus-copy\n",
      "  \n",
      "/home/baiyue/anaconda3/lib/python3.6/site-packages/pandas/core/generic.py:2999: SettingWithCopyWarning: \n",
      "A value is trying to be set on a copy of a slice from a DataFrame.\n",
      "Try using .loc[row_indexer,col_indexer] = value instead\n",
      "\n",
      "See the caveats in the documentation: http://pandas.pydata.org/pandas-docs/stable/indexing.html#indexing-view-versus-copy\n",
      "  self[name] = value\n"
     ]
    },
    {
     "data": {
      "text/html": [
       "<div>\n",
       "<style>\n",
       "    .dataframe thead tr:only-child th {\n",
       "        text-align: right;\n",
       "    }\n",
       "\n",
       "    .dataframe thead th {\n",
       "        text-align: left;\n",
       "    }\n",
       "\n",
       "    .dataframe tbody tr th {\n",
       "        vertical-align: top;\n",
       "    }\n",
       "</style>\n",
       "<table border=\"1\" class=\"dataframe\">\n",
       "  <thead>\n",
       "    <tr style=\"text-align: right;\">\n",
       "      <th></th>\n",
       "      <th>Trip Duration</th>\n",
       "      <th>Start Time</th>\n",
       "      <th>date</th>\n",
       "      <th>hour</th>\n",
       "      <th>day_or_night</th>\n",
       "      <th>day</th>\n",
       "      <th>night</th>\n",
       "    </tr>\n",
       "  </thead>\n",
       "  <tbody>\n",
       "    <tr>\n",
       "      <th>0</th>\n",
       "      <td>528.0</td>\n",
       "      <td>2016-12-01 00:00:04</td>\n",
       "      <td>2016-12-01 00:00:04</td>\n",
       "      <td>0.0</td>\n",
       "      <td>0</td>\n",
       "      <td>0</td>\n",
       "      <td>1</td>\n",
       "    </tr>\n",
       "    <tr>\n",
       "      <th>1</th>\n",
       "      <td>218.0</td>\n",
       "      <td>2016-12-01 00:00:28</td>\n",
       "      <td>2016-12-01 00:00:28</td>\n",
       "      <td>0.0</td>\n",
       "      <td>0</td>\n",
       "      <td>0</td>\n",
       "      <td>1</td>\n",
       "    </tr>\n",
       "    <tr>\n",
       "      <th>2</th>\n",
       "      <td>399.0</td>\n",
       "      <td>2016-12-01 00:00:39</td>\n",
       "      <td>2016-12-01 00:00:39</td>\n",
       "      <td>0.0</td>\n",
       "      <td>0</td>\n",
       "      <td>0</td>\n",
       "      <td>1</td>\n",
       "    </tr>\n",
       "    <tr>\n",
       "      <th>3</th>\n",
       "      <td>254.0</td>\n",
       "      <td>2016-12-01 00:00:44</td>\n",
       "      <td>2016-12-01 00:00:44</td>\n",
       "      <td>0.0</td>\n",
       "      <td>0</td>\n",
       "      <td>0</td>\n",
       "      <td>1</td>\n",
       "    </tr>\n",
       "    <tr>\n",
       "      <th>4</th>\n",
       "      <td>1805.0</td>\n",
       "      <td>2016-12-01 00:00:54</td>\n",
       "      <td>2016-12-01 00:00:54</td>\n",
       "      <td>0.0</td>\n",
       "      <td>0</td>\n",
       "      <td>0</td>\n",
       "      <td>1</td>\n",
       "    </tr>\n",
       "    <tr>\n",
       "      <th>5</th>\n",
       "      <td>483.0</td>\n",
       "      <td>2016-12-01 00:01:13</td>\n",
       "      <td>2016-12-01 00:01:13</td>\n",
       "      <td>0.0</td>\n",
       "      <td>0</td>\n",
       "      <td>0</td>\n",
       "      <td>1</td>\n",
       "    </tr>\n",
       "    <tr>\n",
       "      <th>6</th>\n",
       "      <td>1114.0</td>\n",
       "      <td>2016-12-01 00:01:37</td>\n",
       "      <td>2016-12-01 00:01:37</td>\n",
       "      <td>0.0</td>\n",
       "      <td>0</td>\n",
       "      <td>0</td>\n",
       "      <td>1</td>\n",
       "    </tr>\n",
       "    <tr>\n",
       "      <th>7</th>\n",
       "      <td>2680.0</td>\n",
       "      <td>2016-12-01 00:01:50</td>\n",
       "      <td>2016-12-01 00:01:50</td>\n",
       "      <td>0.0</td>\n",
       "      <td>0</td>\n",
       "      <td>0</td>\n",
       "      <td>1</td>\n",
       "    </tr>\n",
       "    <tr>\n",
       "      <th>8</th>\n",
       "      <td>1967.0</td>\n",
       "      <td>2016-12-01 00:01:52</td>\n",
       "      <td>2016-12-01 00:01:52</td>\n",
       "      <td>0.0</td>\n",
       "      <td>0</td>\n",
       "      <td>0</td>\n",
       "      <td>1</td>\n",
       "    </tr>\n",
       "    <tr>\n",
       "      <th>9</th>\n",
       "      <td>356.0</td>\n",
       "      <td>2016-12-01 00:01:54</td>\n",
       "      <td>2016-12-01 00:01:54</td>\n",
       "      <td>0.0</td>\n",
       "      <td>0</td>\n",
       "      <td>0</td>\n",
       "      <td>1</td>\n",
       "    </tr>\n",
       "    <tr>\n",
       "      <th>10</th>\n",
       "      <td>298.0</td>\n",
       "      <td>2016-12-01 00:01:54</td>\n",
       "      <td>2016-12-01 00:01:54</td>\n",
       "      <td>0.0</td>\n",
       "      <td>0</td>\n",
       "      <td>0</td>\n",
       "      <td>1</td>\n",
       "    </tr>\n",
       "    <tr>\n",
       "      <th>11</th>\n",
       "      <td>315.0</td>\n",
       "      <td>2016-12-01 00:02:05</td>\n",
       "      <td>2016-12-01 00:02:05</td>\n",
       "      <td>0.0</td>\n",
       "      <td>0</td>\n",
       "      <td>0</td>\n",
       "      <td>1</td>\n",
       "    </tr>\n",
       "    <tr>\n",
       "      <th>12</th>\n",
       "      <td>735.0</td>\n",
       "      <td>2016-12-01 00:02:10</td>\n",
       "      <td>2016-12-01 00:02:10</td>\n",
       "      <td>0.0</td>\n",
       "      <td>0</td>\n",
       "      <td>0</td>\n",
       "      <td>1</td>\n",
       "    </tr>\n",
       "    <tr>\n",
       "      <th>13</th>\n",
       "      <td>361.0</td>\n",
       "      <td>2016-12-01 00:02:10</td>\n",
       "      <td>2016-12-01 00:02:10</td>\n",
       "      <td>0.0</td>\n",
       "      <td>0</td>\n",
       "      <td>0</td>\n",
       "      <td>1</td>\n",
       "    </tr>\n",
       "    <tr>\n",
       "      <th>14</th>\n",
       "      <td>1633.0</td>\n",
       "      <td>2016-12-01 00:02:18</td>\n",
       "      <td>2016-12-01 00:02:18</td>\n",
       "      <td>0.0</td>\n",
       "      <td>0</td>\n",
       "      <td>0</td>\n",
       "      <td>1</td>\n",
       "    </tr>\n",
       "    <tr>\n",
       "      <th>15</th>\n",
       "      <td>128.0</td>\n",
       "      <td>2016-12-01 00:02:18</td>\n",
       "      <td>2016-12-01 00:02:18</td>\n",
       "      <td>0.0</td>\n",
       "      <td>0</td>\n",
       "      <td>0</td>\n",
       "      <td>1</td>\n",
       "    </tr>\n",
       "    <tr>\n",
       "      <th>16</th>\n",
       "      <td>1041.0</td>\n",
       "      <td>2016-12-01 00:02:35</td>\n",
       "      <td>2016-12-01 00:02:35</td>\n",
       "      <td>0.0</td>\n",
       "      <td>0</td>\n",
       "      <td>0</td>\n",
       "      <td>1</td>\n",
       "    </tr>\n",
       "    <tr>\n",
       "      <th>17</th>\n",
       "      <td>142.0</td>\n",
       "      <td>2016-12-01 00:02:53</td>\n",
       "      <td>2016-12-01 00:02:53</td>\n",
       "      <td>0.0</td>\n",
       "      <td>0</td>\n",
       "      <td>0</td>\n",
       "      <td>1</td>\n",
       "    </tr>\n",
       "    <tr>\n",
       "      <th>18</th>\n",
       "      <td>256.0</td>\n",
       "      <td>2016-12-01 00:03:17</td>\n",
       "      <td>2016-12-01 00:03:17</td>\n",
       "      <td>0.0</td>\n",
       "      <td>0</td>\n",
       "      <td>0</td>\n",
       "      <td>1</td>\n",
       "    </tr>\n",
       "    <tr>\n",
       "      <th>19</th>\n",
       "      <td>200.0</td>\n",
       "      <td>2016-12-01 00:03:58</td>\n",
       "      <td>2016-12-01 00:03:58</td>\n",
       "      <td>0.0</td>\n",
       "      <td>0</td>\n",
       "      <td>0</td>\n",
       "      <td>1</td>\n",
       "    </tr>\n",
       "    <tr>\n",
       "      <th>20</th>\n",
       "      <td>957.0</td>\n",
       "      <td>2016-12-01 00:04:09</td>\n",
       "      <td>2016-12-01 00:04:09</td>\n",
       "      <td>0.0</td>\n",
       "      <td>0</td>\n",
       "      <td>0</td>\n",
       "      <td>1</td>\n",
       "    </tr>\n",
       "    <tr>\n",
       "      <th>21</th>\n",
       "      <td>653.0</td>\n",
       "      <td>2016-12-01 00:04:20</td>\n",
       "      <td>2016-12-01 00:04:20</td>\n",
       "      <td>0.0</td>\n",
       "      <td>0</td>\n",
       "      <td>0</td>\n",
       "      <td>1</td>\n",
       "    </tr>\n",
       "    <tr>\n",
       "      <th>22</th>\n",
       "      <td>553.0</td>\n",
       "      <td>2016-12-01 00:06:43</td>\n",
       "      <td>2016-12-01 00:06:43</td>\n",
       "      <td>0.0</td>\n",
       "      <td>0</td>\n",
       "      <td>0</td>\n",
       "      <td>1</td>\n",
       "    </tr>\n",
       "    <tr>\n",
       "      <th>23</th>\n",
       "      <td>318.0</td>\n",
       "      <td>2016-12-01 00:07:04</td>\n",
       "      <td>2016-12-01 00:07:04</td>\n",
       "      <td>0.0</td>\n",
       "      <td>0</td>\n",
       "      <td>0</td>\n",
       "      <td>1</td>\n",
       "    </tr>\n",
       "    <tr>\n",
       "      <th>24</th>\n",
       "      <td>145.0</td>\n",
       "      <td>2016-12-01 00:07:44</td>\n",
       "      <td>2016-12-01 00:07:44</td>\n",
       "      <td>0.0</td>\n",
       "      <td>0</td>\n",
       "      <td>0</td>\n",
       "      <td>1</td>\n",
       "    </tr>\n",
       "    <tr>\n",
       "      <th>25</th>\n",
       "      <td>873.0</td>\n",
       "      <td>2016-12-01 00:08:00</td>\n",
       "      <td>2016-12-01 00:08:00</td>\n",
       "      <td>0.0</td>\n",
       "      <td>0</td>\n",
       "      <td>0</td>\n",
       "      <td>1</td>\n",
       "    </tr>\n",
       "    <tr>\n",
       "      <th>26</th>\n",
       "      <td>274.0</td>\n",
       "      <td>2016-12-01 00:08:14</td>\n",
       "      <td>2016-12-01 00:08:14</td>\n",
       "      <td>0.0</td>\n",
       "      <td>0</td>\n",
       "      <td>0</td>\n",
       "      <td>1</td>\n",
       "    </tr>\n",
       "    <tr>\n",
       "      <th>27</th>\n",
       "      <td>309.0</td>\n",
       "      <td>2016-12-01 00:09:27</td>\n",
       "      <td>2016-12-01 00:09:27</td>\n",
       "      <td>0.0</td>\n",
       "      <td>0</td>\n",
       "      <td>0</td>\n",
       "      <td>1</td>\n",
       "    </tr>\n",
       "    <tr>\n",
       "      <th>28</th>\n",
       "      <td>214.0</td>\n",
       "      <td>2016-12-01 00:09:28</td>\n",
       "      <td>2016-12-01 00:09:28</td>\n",
       "      <td>0.0</td>\n",
       "      <td>0</td>\n",
       "      <td>0</td>\n",
       "      <td>1</td>\n",
       "    </tr>\n",
       "    <tr>\n",
       "      <th>29</th>\n",
       "      <td>199.0</td>\n",
       "      <td>2016-12-01 00:09:57</td>\n",
       "      <td>2016-12-01 00:09:57</td>\n",
       "      <td>0.0</td>\n",
       "      <td>0</td>\n",
       "      <td>0</td>\n",
       "      <td>1</td>\n",
       "    </tr>\n",
       "    <tr>\n",
       "      <th>...</th>\n",
       "      <td>...</td>\n",
       "      <td>...</td>\n",
       "      <td>...</td>\n",
       "      <td>...</td>\n",
       "      <td>...</td>\n",
       "      <td>...</td>\n",
       "      <td>...</td>\n",
       "    </tr>\n",
       "    <tr>\n",
       "      <th>812162</th>\n",
       "      <td>1534.0</td>\n",
       "      <td>2016-12-31 23:45:48</td>\n",
       "      <td>2016-12-31 23:45:48</td>\n",
       "      <td>23.0</td>\n",
       "      <td>0</td>\n",
       "      <td>0</td>\n",
       "      <td>1</td>\n",
       "    </tr>\n",
       "    <tr>\n",
       "      <th>812163</th>\n",
       "      <td>870.0</td>\n",
       "      <td>2016-12-31 23:46:35</td>\n",
       "      <td>2016-12-31 23:46:35</td>\n",
       "      <td>23.0</td>\n",
       "      <td>0</td>\n",
       "      <td>0</td>\n",
       "      <td>1</td>\n",
       "    </tr>\n",
       "    <tr>\n",
       "      <th>812164</th>\n",
       "      <td>191.0</td>\n",
       "      <td>2016-12-31 23:46:46</td>\n",
       "      <td>2016-12-31 23:46:46</td>\n",
       "      <td>23.0</td>\n",
       "      <td>0</td>\n",
       "      <td>0</td>\n",
       "      <td>1</td>\n",
       "    </tr>\n",
       "    <tr>\n",
       "      <th>812165</th>\n",
       "      <td>519.0</td>\n",
       "      <td>2016-12-31 23:46:50</td>\n",
       "      <td>2016-12-31 23:46:50</td>\n",
       "      <td>23.0</td>\n",
       "      <td>0</td>\n",
       "      <td>0</td>\n",
       "      <td>1</td>\n",
       "    </tr>\n",
       "    <tr>\n",
       "      <th>812166</th>\n",
       "      <td>549722.0</td>\n",
       "      <td>2016-12-31 23:47:26</td>\n",
       "      <td>2016-12-31 23:47:26</td>\n",
       "      <td>23.0</td>\n",
       "      <td>0</td>\n",
       "      <td>0</td>\n",
       "      <td>1</td>\n",
       "    </tr>\n",
       "    <tr>\n",
       "      <th>812167</th>\n",
       "      <td>346.0</td>\n",
       "      <td>2016-12-31 23:47:26</td>\n",
       "      <td>2016-12-31 23:47:26</td>\n",
       "      <td>23.0</td>\n",
       "      <td>0</td>\n",
       "      <td>0</td>\n",
       "      <td>1</td>\n",
       "    </tr>\n",
       "    <tr>\n",
       "      <th>812168</th>\n",
       "      <td>197.0</td>\n",
       "      <td>2016-12-31 23:47:30</td>\n",
       "      <td>2016-12-31 23:47:30</td>\n",
       "      <td>23.0</td>\n",
       "      <td>0</td>\n",
       "      <td>0</td>\n",
       "      <td>1</td>\n",
       "    </tr>\n",
       "    <tr>\n",
       "      <th>812169</th>\n",
       "      <td>1806.0</td>\n",
       "      <td>2016-12-31 23:48:29</td>\n",
       "      <td>2016-12-31 23:48:29</td>\n",
       "      <td>23.0</td>\n",
       "      <td>0</td>\n",
       "      <td>0</td>\n",
       "      <td>1</td>\n",
       "    </tr>\n",
       "    <tr>\n",
       "      <th>812170</th>\n",
       "      <td>1768.0</td>\n",
       "      <td>2016-12-31 23:48:51</td>\n",
       "      <td>2016-12-31 23:48:51</td>\n",
       "      <td>23.0</td>\n",
       "      <td>0</td>\n",
       "      <td>0</td>\n",
       "      <td>1</td>\n",
       "    </tr>\n",
       "    <tr>\n",
       "      <th>812171</th>\n",
       "      <td>1855.0</td>\n",
       "      <td>2016-12-31 23:48:49</td>\n",
       "      <td>2016-12-31 23:48:49</td>\n",
       "      <td>23.0</td>\n",
       "      <td>0</td>\n",
       "      <td>0</td>\n",
       "      <td>1</td>\n",
       "    </tr>\n",
       "    <tr>\n",
       "      <th>812172</th>\n",
       "      <td>419.0</td>\n",
       "      <td>2016-12-31 23:48:58</td>\n",
       "      <td>2016-12-31 23:48:58</td>\n",
       "      <td>23.0</td>\n",
       "      <td>0</td>\n",
       "      <td>0</td>\n",
       "      <td>1</td>\n",
       "    </tr>\n",
       "    <tr>\n",
       "      <th>812173</th>\n",
       "      <td>781.0</td>\n",
       "      <td>2016-12-31 23:49:22</td>\n",
       "      <td>2016-12-31 23:49:22</td>\n",
       "      <td>23.0</td>\n",
       "      <td>0</td>\n",
       "      <td>0</td>\n",
       "      <td>1</td>\n",
       "    </tr>\n",
       "    <tr>\n",
       "      <th>812174</th>\n",
       "      <td>88.0</td>\n",
       "      <td>2016-12-31 23:49:42</td>\n",
       "      <td>2016-12-31 23:49:42</td>\n",
       "      <td>23.0</td>\n",
       "      <td>0</td>\n",
       "      <td>0</td>\n",
       "      <td>1</td>\n",
       "    </tr>\n",
       "    <tr>\n",
       "      <th>812175</th>\n",
       "      <td>227.0</td>\n",
       "      <td>2016-12-31 23:50:23</td>\n",
       "      <td>2016-12-31 23:50:23</td>\n",
       "      <td>23.0</td>\n",
       "      <td>0</td>\n",
       "      <td>0</td>\n",
       "      <td>1</td>\n",
       "    </tr>\n",
       "    <tr>\n",
       "      <th>812176</th>\n",
       "      <td>1473.0</td>\n",
       "      <td>2016-12-31 23:50:39</td>\n",
       "      <td>2016-12-31 23:50:39</td>\n",
       "      <td>23.0</td>\n",
       "      <td>0</td>\n",
       "      <td>0</td>\n",
       "      <td>1</td>\n",
       "    </tr>\n",
       "    <tr>\n",
       "      <th>812177</th>\n",
       "      <td>316.0</td>\n",
       "      <td>2016-12-31 23:51:27</td>\n",
       "      <td>2016-12-31 23:51:27</td>\n",
       "      <td>23.0</td>\n",
       "      <td>0</td>\n",
       "      <td>0</td>\n",
       "      <td>1</td>\n",
       "    </tr>\n",
       "    <tr>\n",
       "      <th>812178</th>\n",
       "      <td>983.0</td>\n",
       "      <td>2016-12-31 23:51:29</td>\n",
       "      <td>2016-12-31 23:51:29</td>\n",
       "      <td>23.0</td>\n",
       "      <td>0</td>\n",
       "      <td>0</td>\n",
       "      <td>1</td>\n",
       "    </tr>\n",
       "    <tr>\n",
       "      <th>812179</th>\n",
       "      <td>275.0</td>\n",
       "      <td>2016-12-31 23:51:55</td>\n",
       "      <td>2016-12-31 23:51:55</td>\n",
       "      <td>23.0</td>\n",
       "      <td>0</td>\n",
       "      <td>0</td>\n",
       "      <td>1</td>\n",
       "    </tr>\n",
       "    <tr>\n",
       "      <th>812180</th>\n",
       "      <td>2182.0</td>\n",
       "      <td>2016-12-31 23:52:04</td>\n",
       "      <td>2016-12-31 23:52:04</td>\n",
       "      <td>23.0</td>\n",
       "      <td>0</td>\n",
       "      <td>0</td>\n",
       "      <td>1</td>\n",
       "    </tr>\n",
       "    <tr>\n",
       "      <th>812181</th>\n",
       "      <td>128.0</td>\n",
       "      <td>2016-12-31 23:52:34</td>\n",
       "      <td>2016-12-31 23:52:34</td>\n",
       "      <td>23.0</td>\n",
       "      <td>0</td>\n",
       "      <td>0</td>\n",
       "      <td>1</td>\n",
       "    </tr>\n",
       "    <tr>\n",
       "      <th>812182</th>\n",
       "      <td>1126.0</td>\n",
       "      <td>2016-12-31 23:52:54</td>\n",
       "      <td>2016-12-31 23:52:54</td>\n",
       "      <td>23.0</td>\n",
       "      <td>0</td>\n",
       "      <td>0</td>\n",
       "      <td>1</td>\n",
       "    </tr>\n",
       "    <tr>\n",
       "      <th>812183</th>\n",
       "      <td>1089.0</td>\n",
       "      <td>2016-12-31 23:53:23</td>\n",
       "      <td>2016-12-31 23:53:23</td>\n",
       "      <td>23.0</td>\n",
       "      <td>0</td>\n",
       "      <td>0</td>\n",
       "      <td>1</td>\n",
       "    </tr>\n",
       "    <tr>\n",
       "      <th>812184</th>\n",
       "      <td>750.0</td>\n",
       "      <td>2016-12-31 23:53:28</td>\n",
       "      <td>2016-12-31 23:53:28</td>\n",
       "      <td>23.0</td>\n",
       "      <td>0</td>\n",
       "      <td>0</td>\n",
       "      <td>1</td>\n",
       "    </tr>\n",
       "    <tr>\n",
       "      <th>812185</th>\n",
       "      <td>1258.0</td>\n",
       "      <td>2016-12-31 23:53:42</td>\n",
       "      <td>2016-12-31 23:53:42</td>\n",
       "      <td>23.0</td>\n",
       "      <td>0</td>\n",
       "      <td>0</td>\n",
       "      <td>1</td>\n",
       "    </tr>\n",
       "    <tr>\n",
       "      <th>812186</th>\n",
       "      <td>121.0</td>\n",
       "      <td>2016-12-31 23:55:50</td>\n",
       "      <td>2016-12-31 23:55:50</td>\n",
       "      <td>23.0</td>\n",
       "      <td>0</td>\n",
       "      <td>0</td>\n",
       "      <td>1</td>\n",
       "    </tr>\n",
       "    <tr>\n",
       "      <th>812187</th>\n",
       "      <td>441.0</td>\n",
       "      <td>2016-12-31 23:56:15</td>\n",
       "      <td>2016-12-31 23:56:15</td>\n",
       "      <td>23.0</td>\n",
       "      <td>0</td>\n",
       "      <td>0</td>\n",
       "      <td>1</td>\n",
       "    </tr>\n",
       "    <tr>\n",
       "      <th>812188</th>\n",
       "      <td>1026.0</td>\n",
       "      <td>2016-12-31 23:56:19</td>\n",
       "      <td>2016-12-31 23:56:19</td>\n",
       "      <td>23.0</td>\n",
       "      <td>0</td>\n",
       "      <td>0</td>\n",
       "      <td>1</td>\n",
       "    </tr>\n",
       "    <tr>\n",
       "      <th>812189</th>\n",
       "      <td>1747.0</td>\n",
       "      <td>2016-12-31 23:56:35</td>\n",
       "      <td>2016-12-31 23:56:35</td>\n",
       "      <td>23.0</td>\n",
       "      <td>0</td>\n",
       "      <td>0</td>\n",
       "      <td>1</td>\n",
       "    </tr>\n",
       "    <tr>\n",
       "      <th>812190</th>\n",
       "      <td>951.0</td>\n",
       "      <td>2016-12-31 23:59:31</td>\n",
       "      <td>2016-12-31 23:59:31</td>\n",
       "      <td>23.0</td>\n",
       "      <td>0</td>\n",
       "      <td>0</td>\n",
       "      <td>1</td>\n",
       "    </tr>\n",
       "    <tr>\n",
       "      <th>812191</th>\n",
       "      <td>1322.0</td>\n",
       "      <td>2016-12-31 23:59:56</td>\n",
       "      <td>2016-12-31 23:59:56</td>\n",
       "      <td>23.0</td>\n",
       "      <td>0</td>\n",
       "      <td>0</td>\n",
       "      <td>1</td>\n",
       "    </tr>\n",
       "  </tbody>\n",
       "</table>\n",
       "<p>812192 rows × 7 columns</p>\n",
       "</div>"
      ],
      "text/plain": [
       "        Trip Duration           Start Time                date  hour  \\\n",
       "0               528.0  2016-12-01 00:00:04 2016-12-01 00:00:04   0.0   \n",
       "1               218.0  2016-12-01 00:00:28 2016-12-01 00:00:28   0.0   \n",
       "2               399.0  2016-12-01 00:00:39 2016-12-01 00:00:39   0.0   \n",
       "3               254.0  2016-12-01 00:00:44 2016-12-01 00:00:44   0.0   \n",
       "4              1805.0  2016-12-01 00:00:54 2016-12-01 00:00:54   0.0   \n",
       "5               483.0  2016-12-01 00:01:13 2016-12-01 00:01:13   0.0   \n",
       "6              1114.0  2016-12-01 00:01:37 2016-12-01 00:01:37   0.0   \n",
       "7              2680.0  2016-12-01 00:01:50 2016-12-01 00:01:50   0.0   \n",
       "8              1967.0  2016-12-01 00:01:52 2016-12-01 00:01:52   0.0   \n",
       "9               356.0  2016-12-01 00:01:54 2016-12-01 00:01:54   0.0   \n",
       "10              298.0  2016-12-01 00:01:54 2016-12-01 00:01:54   0.0   \n",
       "11              315.0  2016-12-01 00:02:05 2016-12-01 00:02:05   0.0   \n",
       "12              735.0  2016-12-01 00:02:10 2016-12-01 00:02:10   0.0   \n",
       "13              361.0  2016-12-01 00:02:10 2016-12-01 00:02:10   0.0   \n",
       "14             1633.0  2016-12-01 00:02:18 2016-12-01 00:02:18   0.0   \n",
       "15              128.0  2016-12-01 00:02:18 2016-12-01 00:02:18   0.0   \n",
       "16             1041.0  2016-12-01 00:02:35 2016-12-01 00:02:35   0.0   \n",
       "17              142.0  2016-12-01 00:02:53 2016-12-01 00:02:53   0.0   \n",
       "18              256.0  2016-12-01 00:03:17 2016-12-01 00:03:17   0.0   \n",
       "19              200.0  2016-12-01 00:03:58 2016-12-01 00:03:58   0.0   \n",
       "20              957.0  2016-12-01 00:04:09 2016-12-01 00:04:09   0.0   \n",
       "21              653.0  2016-12-01 00:04:20 2016-12-01 00:04:20   0.0   \n",
       "22              553.0  2016-12-01 00:06:43 2016-12-01 00:06:43   0.0   \n",
       "23              318.0  2016-12-01 00:07:04 2016-12-01 00:07:04   0.0   \n",
       "24              145.0  2016-12-01 00:07:44 2016-12-01 00:07:44   0.0   \n",
       "25              873.0  2016-12-01 00:08:00 2016-12-01 00:08:00   0.0   \n",
       "26              274.0  2016-12-01 00:08:14 2016-12-01 00:08:14   0.0   \n",
       "27              309.0  2016-12-01 00:09:27 2016-12-01 00:09:27   0.0   \n",
       "28              214.0  2016-12-01 00:09:28 2016-12-01 00:09:28   0.0   \n",
       "29              199.0  2016-12-01 00:09:57 2016-12-01 00:09:57   0.0   \n",
       "...               ...                  ...                 ...   ...   \n",
       "812162         1534.0  2016-12-31 23:45:48 2016-12-31 23:45:48  23.0   \n",
       "812163          870.0  2016-12-31 23:46:35 2016-12-31 23:46:35  23.0   \n",
       "812164          191.0  2016-12-31 23:46:46 2016-12-31 23:46:46  23.0   \n",
       "812165          519.0  2016-12-31 23:46:50 2016-12-31 23:46:50  23.0   \n",
       "812166       549722.0  2016-12-31 23:47:26 2016-12-31 23:47:26  23.0   \n",
       "812167          346.0  2016-12-31 23:47:26 2016-12-31 23:47:26  23.0   \n",
       "812168          197.0  2016-12-31 23:47:30 2016-12-31 23:47:30  23.0   \n",
       "812169         1806.0  2016-12-31 23:48:29 2016-12-31 23:48:29  23.0   \n",
       "812170         1768.0  2016-12-31 23:48:51 2016-12-31 23:48:51  23.0   \n",
       "812171         1855.0  2016-12-31 23:48:49 2016-12-31 23:48:49  23.0   \n",
       "812172          419.0  2016-12-31 23:48:58 2016-12-31 23:48:58  23.0   \n",
       "812173          781.0  2016-12-31 23:49:22 2016-12-31 23:49:22  23.0   \n",
       "812174           88.0  2016-12-31 23:49:42 2016-12-31 23:49:42  23.0   \n",
       "812175          227.0  2016-12-31 23:50:23 2016-12-31 23:50:23  23.0   \n",
       "812176         1473.0  2016-12-31 23:50:39 2016-12-31 23:50:39  23.0   \n",
       "812177          316.0  2016-12-31 23:51:27 2016-12-31 23:51:27  23.0   \n",
       "812178          983.0  2016-12-31 23:51:29 2016-12-31 23:51:29  23.0   \n",
       "812179          275.0  2016-12-31 23:51:55 2016-12-31 23:51:55  23.0   \n",
       "812180         2182.0  2016-12-31 23:52:04 2016-12-31 23:52:04  23.0   \n",
       "812181          128.0  2016-12-31 23:52:34 2016-12-31 23:52:34  23.0   \n",
       "812182         1126.0  2016-12-31 23:52:54 2016-12-31 23:52:54  23.0   \n",
       "812183         1089.0  2016-12-31 23:53:23 2016-12-31 23:53:23  23.0   \n",
       "812184          750.0  2016-12-31 23:53:28 2016-12-31 23:53:28  23.0   \n",
       "812185         1258.0  2016-12-31 23:53:42 2016-12-31 23:53:42  23.0   \n",
       "812186          121.0  2016-12-31 23:55:50 2016-12-31 23:55:50  23.0   \n",
       "812187          441.0  2016-12-31 23:56:15 2016-12-31 23:56:15  23.0   \n",
       "812188         1026.0  2016-12-31 23:56:19 2016-12-31 23:56:19  23.0   \n",
       "812189         1747.0  2016-12-31 23:56:35 2016-12-31 23:56:35  23.0   \n",
       "812190          951.0  2016-12-31 23:59:31 2016-12-31 23:59:31  23.0   \n",
       "812191         1322.0  2016-12-31 23:59:56 2016-12-31 23:59:56  23.0   \n",
       "\n",
       "        day_or_night  day  night  \n",
       "0                  0    0      1  \n",
       "1                  0    0      1  \n",
       "2                  0    0      1  \n",
       "3                  0    0      1  \n",
       "4                  0    0      1  \n",
       "5                  0    0      1  \n",
       "6                  0    0      1  \n",
       "7                  0    0      1  \n",
       "8                  0    0      1  \n",
       "9                  0    0      1  \n",
       "10                 0    0      1  \n",
       "11                 0    0      1  \n",
       "12                 0    0      1  \n",
       "13                 0    0      1  \n",
       "14                 0    0      1  \n",
       "15                 0    0      1  \n",
       "16                 0    0      1  \n",
       "17                 0    0      1  \n",
       "18                 0    0      1  \n",
       "19                 0    0      1  \n",
       "20                 0    0      1  \n",
       "21                 0    0      1  \n",
       "22                 0    0      1  \n",
       "23                 0    0      1  \n",
       "24                 0    0      1  \n",
       "25                 0    0      1  \n",
       "26                 0    0      1  \n",
       "27                 0    0      1  \n",
       "28                 0    0      1  \n",
       "29                 0    0      1  \n",
       "...              ...  ...    ...  \n",
       "812162             0    0      1  \n",
       "812163             0    0      1  \n",
       "812164             0    0      1  \n",
       "812165             0    0      1  \n",
       "812166             0    0      1  \n",
       "812167             0    0      1  \n",
       "812168             0    0      1  \n",
       "812169             0    0      1  \n",
       "812170             0    0      1  \n",
       "812171             0    0      1  \n",
       "812172             0    0      1  \n",
       "812173             0    0      1  \n",
       "812174             0    0      1  \n",
       "812175             0    0      1  \n",
       "812176             0    0      1  \n",
       "812177             0    0      1  \n",
       "812178             0    0      1  \n",
       "812179             0    0      1  \n",
       "812180             0    0      1  \n",
       "812181             0    0      1  \n",
       "812182             0    0      1  \n",
       "812183             0    0      1  \n",
       "812184             0    0      1  \n",
       "812185             0    0      1  \n",
       "812186             0    0      1  \n",
       "812187             0    0      1  \n",
       "812188             0    0      1  \n",
       "812189             0    0      1  \n",
       "812190             0    0      1  \n",
       "812191             0    0      1  \n",
       "\n",
       "[812192 rows x 7 columns]"
      ]
     },
     "execution_count": 126,
     "metadata": {},
     "output_type": "execute_result"
    }
   ],
   "source": [
    "df1['day'] = df1.day_or_night\n",
    "df1['night'] = df1.day_or_night == 0\n",
    "df1.night = df1.night.astype(int)\n",
    "df1.dropna()"
   ]
  },
  {
   "cell_type": "markdown",
   "metadata": {
    "run_control": {
     "frozen": false,
     "read_only": false
    }
   },
   "source": [
    "lets run the scipy KS test"
   ]
  },
  {
   "cell_type": "code",
   "execution_count": 127,
   "metadata": {
    "ExecuteTime": {
     "end_time": "2017-10-05T16:58:02.949986",
     "start_time": "2017-10-05T16:58:02.443596"
    },
    "collapsed": true,
    "run_control": {
     "frozen": false,
     "read_only": false
    },
    "scrolled": false
   },
   "outputs": [],
   "source": [
    "import scipy.stats\n",
    "#remember that your imports should all be at the top. I leave it here to hightlight that this package is needed at this point of the workflow"
   ]
  },
  {
   "cell_type": "markdown",
   "metadata": {
    "collapsed": true,
    "run_control": {
     "frozen": false,
     "read_only": false
    }
   },
   "source": [
    "# KS tests to compare 2 samples\n",
    "\n",
    "http://docs.scipy.org/doc/scipy-0.15.1/reference/generated/scipy.stats.ks_2samp.html\n",
    "\n",
    "the KS test in scipy returns the p-value BUT make sure you understand what the NULL is! read the documentation carefully! what is the null hypothesis that you can/cannot reject?"
   ]
  },
  {
   "cell_type": "code",
   "execution_count": 128,
   "metadata": {
    "ExecuteTime": {
     "end_time": "2017-10-05T16:58:13.968035",
     "start_time": "2017-10-05T16:58:13.899033"
    },
    "run_control": {
     "frozen": false,
     "read_only": false
    }
   },
   "outputs": [
    {
     "name": "stdout",
     "output_type": "stream",
     "text": [
      "Ks_2sampResult(statistic=0.90738753810825434, pvalue=0.0)\n"
     ]
    }
   ],
   "source": [
    "\n",
    "ks = scipy.stats.ks_2samp(df1[df1.day == 1]['Trip Duration'], df1[df1.day == 0]['Trip Duration'])\n",
    "print (ks)\n",
    "# since the pvalue is low, we can reject the null hypothesis"
   ]
  },
  {
   "cell_type": "markdown",
   "metadata": {
    "run_control": {
     "frozen": false,
     "read_only": false
    }
   },
   "source": [
    "**  FILL IN THE CELL BELOW!**"
   ]
  },
  {
   "cell_type": "markdown",
   "metadata": {
    "ExecuteTime": {
     "end_time": "2017-10-05T16:58:24.751556",
     "start_time": "2017-10-05T16:58:24.747653"
    },
    "collapsed": true,
    "run_control": {
     "frozen": false,
     "read_only": false
    }
   },
   "source": [
    "###### since the pvalue is lower than 0.05, we can reject the null hypothesis, which implies that the during of trips took place at night and at day time are statistically different"
   ]
  },
  {
   "cell_type": "markdown",
   "metadata": {
    "run_control": {
     "frozen": false,
     "read_only": false
    }
   },
   "source": [
    "The scipy.stats KS test already tells me the significance and the p-value. \n",
    "\n",
    "The next few cells are here just to show you how you would obtain the same result by hand, but they are **not required**. \n",
    "\n",
    "Remember: the Null hypothesis is rejected if \n",
    "\n",
    "$D_KS(n1,n2) > c(\\alpha) \\sqrt{\\frac{(n1 + n2)}{n1n2}}$\n",
    "\n",
    "(see class notes) where $c(\\alpha$) is the inverse of the KS distribution, and you do not have to know how to get that cause there are tables that list critical values!! \n",
    "\n",
    "http://www.real-statistics.com/tests-normality-and-symmetry/statistical-tests-normality-symmetry/kolmogorov-smirnov-test/kolmogorov-distribution/\n",
    "\n",
    "But also this result depends in your choice of binning through, and thustheresultyou get by hand may not be exactly the same as the one the KS returns. Either way: this is how you would calculate the KS statistics by hand."
   ]
  },
  {
   "cell_type": "markdown",
   "metadata": {
    "run_control": {
     "frozen": false,
     "read_only": false
    }
   },
   "source": [
    "# Now retest using a test for correlation. \n",
    "\n",
    "That will answer a slightly different question though - formulate the NULL appropriately. The tests for correlations (generally) requires the variable to be paired, so that I can tell if x changes does y change similarly. But the datasets are of different size! You will need to reduce them to the same size. You can do that by subsampling of the data: take only 1 ride every of 200, which you can achieve \"slicing and broadcasting\" the array or using one of the python function (built in python numpy.random.choice() functions for example: Docstring:\n",
    "choice(a, size=None, replace=True, p=None)\n",
    "\n",
    "Generates a random sample from a given 1-D array\n",
    "\n",
    "        .. versionadded:: 1.7.0\n",
    "\n",
    "Parameters\n",
    "...\n",
    "\n",
    "But make sure you understand how to use it! there is an option \"replace\" which you should think about."
   ]
  },
  {
   "cell_type": "markdown",
   "metadata": {
    "run_control": {
     "frozen": false,
     "read_only": false
    }
   },
   "source": [
    "# Pearson's  test for correlation\n",
    "\n",
    "** notice that the Pearson's is a pairwise test: the samples need to be **\n",
    " a. the same size\n",
    " b. sorted! (how??)\n",
    "    \n",
    "http://docs.scipy.org/doc/scipy/reference/generated/scipy.stats.pearsonr.html#scipy.stats.pearsonr\n",
    "\n"
   ]
  },
  {
   "cell_type": "code",
   "execution_count": 130,
   "metadata": {
    "ExecuteTime": {
     "end_time": "2017-10-05T17:05:04.485128",
     "start_time": "2017-10-05T17:05:04.480928"
    },
    "run_control": {
     "frozen": false,
     "read_only": false
    }
   },
   "outputs": [
    {
     "name": "stdout",
     "output_type": "stream",
     "text": [
      "nan 1.0\n",
      "the correlation between the trip duration taking place at day time and night time is strong and statistically significant, hence fail to reject null hypothesis\n"
     ]
    }
   ],
   "source": [
    "# your code here!\n",
    "# wrangle the data as needed\n",
    "# please perform the Pearson's test \n",
    "# and tell me what you find in terms of NULL hypothesis\n",
    "r1, pval1 = scipy.stats.pearsonr(np.sort(df1['Trip Duration']*df1.day), np.sort(df1['Trip Duration']*df1.night))\n",
    "print(r1, pval1)\n",
    "print('the correlation between the trip duration taking place at day time and night time is strong and statistically significant, hence fail to reject null hypothesis')"
   ]
  },
  {
   "cell_type": "markdown",
   "metadata": {
    "run_control": {
     "frozen": false,
     "read_only": false
    }
   },
   "source": [
    "# Spearman's  test for correlation\n",
    "\n",
    "http://docs.scipy.org/doc/scipy/reference/generated/scipy.stats.spearmanr.html#scipy.stats.spearmanr"
   ]
  },
  {
   "cell_type": "code",
   "execution_count": 131,
   "metadata": {
    "ExecuteTime": {
     "end_time": "2017-10-05T17:05:09.530148",
     "start_time": "2017-10-05T17:05:09.525214"
    },
    "run_control": {
     "frozen": false,
     "read_only": false
    },
    "scrolled": true
   },
   "outputs": [
    {
     "name": "stdout",
     "output_type": "stream",
     "text": [
      "nan nan\n",
      "The correlation between the two data set is weak (the two data set are statistically different) and we reject the null hypothesis since p < alpha\n"
     ]
    }
   ],
   "source": [
    "# your code here!\n",
    "# wrangle the data as needed\n",
    "# please perform the Spearman's test and tell me what you find in terms of NULL hypothesisc\n",
    "r11, pval11= scipy.stats.spearmanr(df1['Trip Duration']*df1.day, df1['Trip Duration']*df1.night)\n",
    "print(r11, pval11)\n",
    "print('The correlation between the two data set is weak (the two data set are statistically different) and we reject the null hypothesis since p < alpha')"
   ]
  },
  {
   "cell_type": "code",
   "execution_count": 134,
   "metadata": {},
   "outputs": [
    {
     "data": {
      "text/plain": [
       "nan"
      ]
     },
     "execution_count": 134,
     "metadata": {},
     "output_type": "execute_result"
    }
   ],
   "source": []
  },
  {
   "cell_type": "code",
   "execution_count": 35,
   "metadata": {
    "collapsed": true
   },
   "outputs": [],
   "source": [
    "from geopy.geocoders import Nominatim\n",
    "geolocator = Nominatim()"
   ]
  },
  {
   "cell_type": "code",
   "execution_count": 38,
   "metadata": {},
   "outputs": [],
   "source": [
    "df.location = list(zip(df['Start Station Latitude'],df['Start Station Longitude']))\n",
    "# geolocator.reverse(zip(df['Start Station Latitude'][1],df['Start Station Longitude'][1])).raw"
   ]
  },
  {
   "cell_type": "code",
   "execution_count": 47,
   "metadata": {},
   "outputs": [
    {
     "data": {
      "text/plain": [
       "{'address': {'building': 'Exchange Place Center',\n",
       "  'city': 'Jersey City',\n",
       "  'country': 'United States of America',\n",
       "  'country_code': 'us',\n",
       "  'county': 'Hudson County',\n",
       "  'neighbourhood': 'Colgate Center',\n",
       "  'postcode': '07302',\n",
       "  'road': 'Christopher Columbus Drive',\n",
       "  'state': 'New Jersey'},\n",
       " 'boundingbox': ['40.7163962', '40.7169426', '-74.0338875', '-74.0327492'],\n",
       " 'display_name': 'Exchange Place Center, Christopher Columbus Drive, Colgate Center, Jersey City, Hudson County, New Jersey, 07302, United States of America',\n",
       " 'lat': '40.71667385',\n",
       " 'licence': 'Data © OpenStreetMap contributors, ODbL 1.0. http://www.openstreetmap.org/copyright',\n",
       " 'lon': '-74.0333081035378',\n",
       " 'osm_id': '259774431',\n",
       " 'osm_type': 'way',\n",
       " 'place_id': '130844681'}"
      ]
     },
     "execution_count": 47,
     "metadata": {},
     "output_type": "execute_result"
    }
   ],
   "source": [
    "geolocator.reverse(df.location[13498]).raw"
   ]
  },
  {
   "cell_type": "code",
   "execution_count": 61,
   "metadata": {
    "collapsed": true
   },
   "outputs": [],
   "source": [
    "bk_zip = [11212, 11213, 11216, 11233, 11238, 11209, 11214, 11228,1204,\n",
    "          11218, 11219, 11230,11234, 11236, 11239,11223, 11224, 11229, \n",
    "          11235,11201, 11205, 11215, 11217, 11231,1203, 11210, 11225, \n",
    "          11226,11207, 11208,11211, 11222,11220, 11232,1206, 11221, 11237]\n",
    "          \n",
    "mn_zip = [10026, 10027, 10030, 10037, 10039,10001, 10011, 10018, \n",
    "          10019, 10020, 10036,10029, 10035, 10010, 10016, 10017, \n",
    "          10022,10012, 10013, 10014,10004, 10005, 10006, 10007, \n",
    "          10038, 10280, 10002, 10003, 10009,10021, 10028, 10044, \n",
    "          10065, 10075, 10128,10023, 10024, 10025, 10031, 10032, 10033, 10034, 10040]\n",
    "\n",
    "bk_zip = list(map(str, bk_zip))\n",
    "mn_zip = list(map(str, mn_zip))\n",
    "\n",
    "#source: https://www.health.ny.gov/statistics/cancer/registry/appendix/neighborhoods.htm"
   ]
  },
  {
   "cell_type": "code",
   "execution_count": 65,
   "metadata": {
    "collapsed": true
   },
   "outputs": [],
   "source": [
    "def get_zip(location): \n",
    "    zipcode = geolocator.reverse(location).raw['address']['postcode']\n",
    "    return(zipcode)"
   ]
  },
  {
   "cell_type": "code",
   "execution_count": 89,
   "metadata": {
    "collapsed": true
   },
   "outputs": [],
   "source": [
    "from uszipcode import ZipcodeSearchEngine\n",
    "search = ZipcodeSearchEngine()\n",
    "df['zip'] = 0"
   ]
  },
  {
   "cell_type": "code",
   "execution_count": 100,
   "metadata": {},
   "outputs": [],
   "source": [
    "df.zip = list(map(lambda x: search.by_coordinate(x[0], x[1], returns=1)[0]['Zipcode'], df.location))"
   ]
  },
  {
   "cell_type": "code",
   "execution_count": 105,
   "metadata": {},
   "outputs": [],
   "source": [
    "df.to_csv('data_backup.csv')"
   ]
  },
  {
   "cell_type": "code",
   "execution_count": 103,
   "metadata": {
    "collapsed": true
   },
   "outputs": [],
   "source": [
    "def get_mnbk(zipcode): \n",
    "    if zipcode in bk_zip: \n",
    "        return(1)\n",
    "    if zipcode in mn_zip:\n",
    "        return(0)\n",
    "    else: \n",
    "        return(2)\n",
    "df['mnbk'] = 0\n",
    "df.mnbk = list(map(get_mnbk, df.zip))"
   ]
  },
  {
   "cell_type": "code",
   "execution_count": 107,
   "metadata": {
    "collapsed": true
   },
   "outputs": [],
   "source": [
    "df['age'] = 2017 - df['Birth Year']"
   ]
  },
  {
   "cell_type": "code",
   "execution_count": 113,
   "metadata": {},
   "outputs": [
    {
     "data": {
      "text/plain": [
       "array(['07302', '07304', '07305', '07306', '07307', '07310', '07311'], dtype=object)"
      ]
     },
     "execution_count": 113,
     "metadata": {},
     "output_type": "execute_result"
    }
   ],
   "source": [
    "np.unique(df.zip)"
   ]
  },
  {
   "cell_type": "code",
   "execution_count": 108,
   "metadata": {},
   "outputs": [
    {
     "ename": "ValueError",
     "evalue": "zero-size array to reduction operation maximum which has no identity",
     "output_type": "error",
     "traceback": [
      "\u001b[0;31m---------------------------------------------------------------------------\u001b[0m",
      "\u001b[0;31mValueError\u001b[0m                                Traceback (most recent call last)",
      "\u001b[0;32m<ipython-input-108-38ee47b020a0>\u001b[0m in \u001b[0;36m<module>\u001b[0;34m()\u001b[0m\n\u001b[0;32m----> 1\u001b[0;31m \u001b[0mks2\u001b[0m \u001b[0;34m=\u001b[0m \u001b[0mscipy\u001b[0m\u001b[0;34m.\u001b[0m\u001b[0mstats\u001b[0m\u001b[0;34m.\u001b[0m\u001b[0mks_2samp\u001b[0m\u001b[0;34m(\u001b[0m\u001b[0mdf\u001b[0m\u001b[0;34m[\u001b[0m\u001b[0mdf\u001b[0m\u001b[0;34m.\u001b[0m\u001b[0mmnbk\u001b[0m \u001b[0;34m==\u001b[0m \u001b[0;36m1\u001b[0m\u001b[0;34m]\u001b[0m\u001b[0;34m[\u001b[0m\u001b[0;34m'age'\u001b[0m\u001b[0;34m]\u001b[0m\u001b[0;34m,\u001b[0m \u001b[0mdf\u001b[0m\u001b[0;34m[\u001b[0m\u001b[0mdf\u001b[0m\u001b[0;34m.\u001b[0m\u001b[0mmnbk\u001b[0m \u001b[0;34m==\u001b[0m \u001b[0;36m0\u001b[0m\u001b[0;34m]\u001b[0m\u001b[0;34m[\u001b[0m\u001b[0;34m'age'\u001b[0m\u001b[0;34m]\u001b[0m\u001b[0;34m)\u001b[0m\u001b[0;34m\u001b[0m\u001b[0m\n\u001b[0m\u001b[1;32m      2\u001b[0m \u001b[0mprint\u001b[0m \u001b[0;34m(\u001b[0m\u001b[0mks2\u001b[0m\u001b[0;34m)\u001b[0m\u001b[0;34m\u001b[0m\u001b[0m\n\u001b[1;32m      3\u001b[0m \u001b[0;31m# since the pvalue is low, we can reject the null hypothesis\u001b[0m\u001b[0;34m\u001b[0m\u001b[0;34m\u001b[0m\u001b[0m\n",
      "\u001b[0;32m/home/baiyue/anaconda3/lib/python3.6/site-packages/scipy/stats/stats.py\u001b[0m in \u001b[0;36mks_2samp\u001b[0;34m(data1, data2)\u001b[0m\n\u001b[1;32m   4750\u001b[0m     \u001b[0mcdf1\u001b[0m \u001b[0;34m=\u001b[0m \u001b[0mnp\u001b[0m\u001b[0;34m.\u001b[0m\u001b[0msearchsorted\u001b[0m\u001b[0;34m(\u001b[0m\u001b[0mdata1\u001b[0m\u001b[0;34m,\u001b[0m \u001b[0mdata_all\u001b[0m\u001b[0;34m,\u001b[0m \u001b[0mside\u001b[0m\u001b[0;34m=\u001b[0m\u001b[0;34m'right'\u001b[0m\u001b[0;34m)\u001b[0m \u001b[0;34m/\u001b[0m \u001b[0;34m(\u001b[0m\u001b[0;36m1.0\u001b[0m\u001b[0;34m*\u001b[0m\u001b[0mn1\u001b[0m\u001b[0;34m)\u001b[0m\u001b[0;34m\u001b[0m\u001b[0m\n\u001b[1;32m   4751\u001b[0m     \u001b[0mcdf2\u001b[0m \u001b[0;34m=\u001b[0m \u001b[0mnp\u001b[0m\u001b[0;34m.\u001b[0m\u001b[0msearchsorted\u001b[0m\u001b[0;34m(\u001b[0m\u001b[0mdata2\u001b[0m\u001b[0;34m,\u001b[0m \u001b[0mdata_all\u001b[0m\u001b[0;34m,\u001b[0m \u001b[0mside\u001b[0m\u001b[0;34m=\u001b[0m\u001b[0;34m'right'\u001b[0m\u001b[0;34m)\u001b[0m \u001b[0;34m/\u001b[0m \u001b[0;34m(\u001b[0m\u001b[0;36m1.0\u001b[0m\u001b[0;34m*\u001b[0m\u001b[0mn2\u001b[0m\u001b[0;34m)\u001b[0m\u001b[0;34m\u001b[0m\u001b[0m\n\u001b[0;32m-> 4752\u001b[0;31m     \u001b[0md\u001b[0m \u001b[0;34m=\u001b[0m \u001b[0mnp\u001b[0m\u001b[0;34m.\u001b[0m\u001b[0mmax\u001b[0m\u001b[0;34m(\u001b[0m\u001b[0mnp\u001b[0m\u001b[0;34m.\u001b[0m\u001b[0mabsolute\u001b[0m\u001b[0;34m(\u001b[0m\u001b[0mcdf1\u001b[0m \u001b[0;34m-\u001b[0m \u001b[0mcdf2\u001b[0m\u001b[0;34m)\u001b[0m\u001b[0;34m)\u001b[0m\u001b[0;34m\u001b[0m\u001b[0m\n\u001b[0m\u001b[1;32m   4753\u001b[0m     \u001b[0;31m# Note: d absolute not signed distance\u001b[0m\u001b[0;34m\u001b[0m\u001b[0;34m\u001b[0m\u001b[0m\n\u001b[1;32m   4754\u001b[0m     \u001b[0men\u001b[0m \u001b[0;34m=\u001b[0m \u001b[0mnp\u001b[0m\u001b[0;34m.\u001b[0m\u001b[0msqrt\u001b[0m\u001b[0;34m(\u001b[0m\u001b[0mn1\u001b[0m \u001b[0;34m*\u001b[0m \u001b[0mn2\u001b[0m \u001b[0;34m/\u001b[0m \u001b[0mfloat\u001b[0m\u001b[0;34m(\u001b[0m\u001b[0mn1\u001b[0m \u001b[0;34m+\u001b[0m \u001b[0mn2\u001b[0m\u001b[0;34m)\u001b[0m\u001b[0;34m)\u001b[0m\u001b[0;34m\u001b[0m\u001b[0m\n",
      "\u001b[0;32m/home/baiyue/anaconda3/lib/python3.6/site-packages/numpy/core/fromnumeric.py\u001b[0m in \u001b[0;36mamax\u001b[0;34m(a, axis, out, keepdims)\u001b[0m\n\u001b[1;32m   2250\u001b[0m \u001b[0;34m\u001b[0m\u001b[0m\n\u001b[1;32m   2251\u001b[0m     return _methods._amax(a, axis=axis,\n\u001b[0;32m-> 2252\u001b[0;31m                           out=out, **kwargs)\n\u001b[0m\u001b[1;32m   2253\u001b[0m \u001b[0;34m\u001b[0m\u001b[0m\n\u001b[1;32m   2254\u001b[0m \u001b[0;34m\u001b[0m\u001b[0m\n",
      "\u001b[0;32m/home/baiyue/anaconda3/lib/python3.6/site-packages/numpy/core/_methods.py\u001b[0m in \u001b[0;36m_amax\u001b[0;34m(a, axis, out, keepdims)\u001b[0m\n\u001b[1;32m     24\u001b[0m \u001b[0;31m# small reductions\u001b[0m\u001b[0;34m\u001b[0m\u001b[0;34m\u001b[0m\u001b[0m\n\u001b[1;32m     25\u001b[0m \u001b[0;32mdef\u001b[0m \u001b[0m_amax\u001b[0m\u001b[0;34m(\u001b[0m\u001b[0ma\u001b[0m\u001b[0;34m,\u001b[0m \u001b[0maxis\u001b[0m\u001b[0;34m=\u001b[0m\u001b[0;32mNone\u001b[0m\u001b[0;34m,\u001b[0m \u001b[0mout\u001b[0m\u001b[0;34m=\u001b[0m\u001b[0;32mNone\u001b[0m\u001b[0;34m,\u001b[0m \u001b[0mkeepdims\u001b[0m\u001b[0;34m=\u001b[0m\u001b[0;32mFalse\u001b[0m\u001b[0;34m)\u001b[0m\u001b[0;34m:\u001b[0m\u001b[0;34m\u001b[0m\u001b[0m\n\u001b[0;32m---> 26\u001b[0;31m     \u001b[0;32mreturn\u001b[0m \u001b[0mumr_maximum\u001b[0m\u001b[0;34m(\u001b[0m\u001b[0ma\u001b[0m\u001b[0;34m,\u001b[0m \u001b[0maxis\u001b[0m\u001b[0;34m,\u001b[0m \u001b[0;32mNone\u001b[0m\u001b[0;34m,\u001b[0m \u001b[0mout\u001b[0m\u001b[0;34m,\u001b[0m \u001b[0mkeepdims\u001b[0m\u001b[0;34m)\u001b[0m\u001b[0;34m\u001b[0m\u001b[0m\n\u001b[0m\u001b[1;32m     27\u001b[0m \u001b[0;34m\u001b[0m\u001b[0m\n\u001b[1;32m     28\u001b[0m \u001b[0;32mdef\u001b[0m \u001b[0m_amin\u001b[0m\u001b[0;34m(\u001b[0m\u001b[0ma\u001b[0m\u001b[0;34m,\u001b[0m \u001b[0maxis\u001b[0m\u001b[0;34m=\u001b[0m\u001b[0;32mNone\u001b[0m\u001b[0;34m,\u001b[0m \u001b[0mout\u001b[0m\u001b[0;34m=\u001b[0m\u001b[0;32mNone\u001b[0m\u001b[0;34m,\u001b[0m \u001b[0mkeepdims\u001b[0m\u001b[0;34m=\u001b[0m\u001b[0;32mFalse\u001b[0m\u001b[0;34m)\u001b[0m\u001b[0;34m:\u001b[0m\u001b[0;34m\u001b[0m\u001b[0m\n",
      "\u001b[0;31mValueError\u001b[0m: zero-size array to reduction operation maximum which has no identity"
     ]
    }
   ],
   "source": [
    "ks2 = scipy.stats.ks_2samp(df[df.mnbk == 1]['age'], df[df.mnbk == 0]['age'])\n",
    "print (ks2)\n",
    "# since the pvalue is low, we can reject the null hypothesis"
   ]
  },
  {
   "cell_type": "code",
   "execution_count": 112,
   "metadata": {},
   "outputs": [
    {
     "data": {
      "text/plain": [
       "0        49.0\n",
       "1        39.0\n",
       "2        29.0\n",
       "3        31.0\n",
       "4        31.0\n",
       "5        52.0\n",
       "6        35.0\n",
       "7        33.0\n",
       "8        52.0\n",
       "9        59.0\n",
       "10       40.0\n",
       "11       48.0\n",
       "12       56.0\n",
       "13       32.0\n",
       "14       31.0\n",
       "15       43.0\n",
       "16       40.0\n",
       "17       30.0\n",
       "18       32.0\n",
       "19        NaN\n",
       "20        NaN\n",
       "21       39.0\n",
       "22       31.0\n",
       "23       50.0\n",
       "24       26.0\n",
       "25       33.0\n",
       "26       42.0\n",
       "27       26.0\n",
       "28       48.0\n",
       "29       38.0\n",
       "         ... \n",
       "12896    31.0\n",
       "12897    35.0\n",
       "12898    41.0\n",
       "12899    40.0\n",
       "12900    27.0\n",
       "12901    42.0\n",
       "12902    43.0\n",
       "12903    41.0\n",
       "12904    29.0\n",
       "12905    34.0\n",
       "12906    76.0\n",
       "12907    45.0\n",
       "12908    39.0\n",
       "12909    29.0\n",
       "12910    30.0\n",
       "12911    31.0\n",
       "12912    23.0\n",
       "12913    35.0\n",
       "12914    28.0\n",
       "12915    36.0\n",
       "12916    30.0\n",
       "12917    28.0\n",
       "12918     NaN\n",
       "12919    41.0\n",
       "12920    27.0\n",
       "12921    37.0\n",
       "12922    31.0\n",
       "12923    29.0\n",
       "12924    29.0\n",
       "12925    30.0\n",
       "Name: age, Length: 47075, dtype: float64"
      ]
     },
     "execution_count": 112,
     "metadata": {},
     "output_type": "execute_result"
    }
   ],
   "source": []
  },
  {
   "cell_type": "code",
   "execution_count": null,
   "metadata": {
    "collapsed": true
   },
   "outputs": [],
   "source": [
    "# your code here!\n",
    "# wrangle the data as needed\n",
    "# please perform the Pearson's test \n",
    "# and tell me what you find in terms of NULL hypothesis\n",
    "r2, pval2 = scipy.stats.pearsonr(np.sort(df.age*df.bk), np.sort(df.age*df.mn))\n",
    "print(r2, pval2)\n",
    "print('the correlation between the trip duration taking place at day time and night time is strong and statistically significant, hence fail to reject null hypothesis')"
   ]
  },
  {
   "cell_type": "code",
   "execution_count": null,
   "metadata": {
    "collapsed": true
   },
   "outputs": [],
   "source": [
    "\n",
    "# wrangle the data as needed\n",
    "# please perform the Spearman's test and tell me what you find in terms of NULL hypothesisc\n",
    "r22, pval22= scipy.stats.spearmanr(df.age*df.bk, df.age*df.mn)\n",
    "print(r22, pval22)\n",
    "print('The correlation between the two data set is weak (the two data set are statistically different) and we reject the null hypothesis since p < alpha')"
   ]
  }
 ],
 "metadata": {
  "anaconda-cloud": {},
  "kernelspec": {
   "display_name": "Python 3",
   "language": "python",
   "name": "python3"
  },
  "language_info": {
   "codemirror_mode": {
    "name": "ipython",
    "version": 3
   },
   "file_extension": ".py",
   "mimetype": "text/x-python",
   "name": "python",
   "nbconvert_exporter": "python",
   "pygments_lexer": "ipython3",
   "version": "3.6.1"
  },
  "latex_envs": {
   "LaTeX_envs_menu_present": true,
   "bibliofile": "biblio.bib",
   "cite_by": "apalike",
   "current_citInitial": 1,
   "eqLabelWithNumbers": true,
   "eqNumInitial": 1,
   "hotkeys": {
    "equation": "Ctrl-E",
    "itemize": "Ctrl-I"
   },
   "labels_anchors": false,
   "latex_user_defs": false,
   "report_style_numbering": false,
   "user_envs_cfg": false
  },
  "toc": {
   "colors": {
    "hover_highlight": "#DAA520",
    "running_highlight": "#FF0000",
    "selected_highlight": "#FFD700"
   },
   "moveMenuLeft": true,
   "nav_menu": {
    "height": "135px",
    "width": "251px"
   },
   "navigate_menu": true,
   "number_sections": true,
   "sideBar": true,
   "threshold": 4,
   "toc_cell": false,
   "toc_section_display": "block",
   "toc_window_display": false
  }
 },
 "nbformat": 4,
 "nbformat_minor": 1
}
