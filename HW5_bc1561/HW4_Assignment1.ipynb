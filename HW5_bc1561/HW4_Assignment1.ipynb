{
 "cells": [
  {
   "cell_type": "code",
   "execution_count": 1,
   "metadata": {},
   "outputs": [
    {
     "name": "stdout",
     "output_type": "stream",
     "text": [
      "Populating the interactive namespace from numpy and matplotlib\n"
     ]
    }
   ],
   "source": [
    "import numpy as np \n",
    "import pandas as pd\n",
    "import pylab as pl \n",
    "import itertools\n",
    "import scipy.stats\n",
    "\n",
    "\n",
    "%pylab inline"
   ]
  },
  {
   "cell_type": "markdown",
   "metadata": {},
   "source": [
    "## Goals:\n",
    "\n",
    "(all simulated data)\n",
    "\n",
    "* Generate N samples from a distribution of your choice (not Gaussian) and calculate the mean of each sample (all samples should have the same size n).\n",
    "\n",
    "* Assess the validity of the Z-test \n",
    "    * If the samples are drawn from the distribution you are testing, the z-values you calculate should follow a N(0,1) distribution. \n",
    "    * Show the distribution of z -statistics is indeed consistent with N(0,1)."
   ]
  },
  {
   "cell_type": "code",
   "execution_count": 2,
   "metadata": {
    "collapsed": true
   },
   "outputs": [],
   "source": [
    "# set seed \n",
    "np.random.seed(1000)"
   ]
  },
  {
   "cell_type": "code",
   "execution_count": 3,
   "metadata": {
    "collapsed": true
   },
   "outputs": [],
   "source": [
    "# generate N = 1000 samples of poisson distribution, each with sample size n = 1000\n",
    "poisson = np.empty(1000, dtype=list)\n",
    "n = 10000\n",
    "mean = 100\n",
    "\n",
    "for i in range(1000): \n",
    "    poisson[i] = np.random.poisson(mean, size = n)"
   ]
  },
  {
   "cell_type": "code",
   "execution_count": 4,
   "metadata": {
    "collapsed": true
   },
   "outputs": [],
   "source": [
    "# calculate all means \n",
    "allmeans = list(map(lambda x: x.mean(), poisson))"
   ]
  },
  {
   "cell_type": "code",
   "execution_count": 5,
   "metadata": {},
   "outputs": [],
   "source": [
    "# calculate population mean and population standard deviation \n",
    "allpoisson = list(itertools.chain.from_iterable(poisson))\n",
    "pop_mean = np.mean(allpoisson)\n",
    "pop_std = np.std(allpoisson)"
   ]
  },
  {
   "cell_type": "code",
   "execution_count": 6,
   "metadata": {},
   "outputs": [],
   "source": [
    "all_z = list(map(lambda x: (x - pop_mean)*np.sqrt(10000) / pop_std, allmeans))"
   ]
  },
  {
   "cell_type": "code",
   "execution_count": 7,
   "metadata": {},
   "outputs": [
    {
     "data": {
      "image/png": "[encoded data removed]",
      "text/plain": [
       "<matplotlib.figure.Figure at 0x20f4f3d7588>"
      ]
     },
     "metadata": {},
     "output_type": "display_data"
    }
   ],
   "source": [
    "mu, std = scipy.stats.norm.fit(all_z)\n",
    "xmin, xmax = pl.xlim()\n",
    "x = np.linspace(min(all_z), max(all_z), 100)\n",
    "p = scipy.stats.norm.pdf(x, mu, std)\n",
    "\n",
    "pl.hist(all_z,bins=100, normed=True)\n",
    "pl.plot(x, p, 'k', linewidth=2)\n",
    "pl.xlabel('z statistics', fontsize = 18)\n",
    "pl.ylabel('N', fontsize = 18)\n",
    "pl.title('Distribution of z statistics with fitted normal distribution curve', fontsize = 18)\n",
    "    \n",
    "plt.show()"
   ]
  },
  {
   "cell_type": "markdown",
   "metadata": {},
   "source": [
    "##### Null hypothesis: the distribution of z statistics is the same with the normal distribution (N(0,1)).\n",
    "alpha = 0.05"
   ]
  },
  {
   "cell_type": "code",
   "execution_count": 8,
   "metadata": {},
   "outputs": [
    {
     "data": {
      "text/plain": [
       "KstestResult(statistic=0.016864519347300377, pvalue=0.93858608667266774)"
      ]
     },
     "execution_count": 8,
     "metadata": {},
     "output_type": "execute_result"
    }
   ],
   "source": [
    "scipy.stats.kstest(all_z, 'norm')"
   ]
  },
  {
   "cell_type": "markdown",
   "metadata": {},
   "source": [
    "From above ks-test, we can see pvalue is large, we fail to reject null hypothesis, hence the z statistics we generated above follow the normal distribution (N(0,1))"
   ]
  }
 ],
 "metadata": {
  "kernelspec": {
   "display_name": "Python 3",
   "language": "python",
   "name": "python3"
  },
  "language_info": {
   "codemirror_mode": {
    "name": "ipython",
    "version": 3
   },
   "file_extension": ".py",
   "mimetype": "text/x-python",
   "name": "python",
   "nbconvert_exporter": "python",
   "pygments_lexer": "ipython3",
   "version": "3.6.1"
  }
 },
 "nbformat": 4,
 "nbformat_minor": 2
}
