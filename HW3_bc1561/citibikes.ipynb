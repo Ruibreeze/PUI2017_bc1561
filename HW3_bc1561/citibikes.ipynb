{
 "cells": [
  {
   "cell_type": "markdown",
   "metadata": {},
   "source": [
    "# Written by Federica B. Bianco @fedhere\n",
    "# Implemented and edited by Baiyue Cao (BC1561) @SPTKL\n",
    "# for NYU CUSP PUI\n",
    "\n",
    "- ### Come up with a question about the Citibike data usage. It can be anything that involves Categorical data. \n",
    "- ### Choose the significance threshold\n",
    "- ### Clearly state they Null and Alternate hypothesis\n",
    "- ### Wrangle the data so that it is ready for your analysis."
   ]
  },
  {
   "cell_type": "code",
   "execution_count": 24,
   "metadata": {
    "collapsed": false,
    "scrolled": true
   },
   "outputs": [
    {
     "name": "stdout",
     "output_type": "stream",
     "text": [
      "Populating the interactive namespace from numpy and matplotlib\n"
     ]
    }
   ],
   "source": [
    "from __future__  import print_function, division\n",
    "import pylab as pl\n",
    "import pandas as pd\n",
    "import numpy as np\n",
    "import os\n",
    "from urllib.request import urlopen\n",
    "import io\n",
    "\n",
    "%pylab inline\n",
    "data_url = urlopen('https://s3.amazonaws.com/tripdata/JC-201707-citibike-tripdata.csv.zip')\n",
    "df = pd.read_csv(io.BytesIO(data_url.read()), compression='zip', sep=',')"
   ]
  },
  {
   "cell_type": "code",
   "execution_count": 21,
   "metadata": {
    "collapsed": false
   },
   "outputs": [
    {
     "data": {
      "text/html": [
       "<div>\n",
       "<table border=\"1\" class=\"dataframe\">\n",
       "  <thead>\n",
       "    <tr style=\"text-align: right;\">\n",
       "      <th></th>\n",
       "      <th>tripduration</th>\n",
       "      <th>starttime</th>\n",
       "      <th>stoptime</th>\n",
       "      <th>start station id</th>\n",
       "      <th>start station name</th>\n",
       "      <th>start station latitude</th>\n",
       "      <th>start station longitude</th>\n",
       "      <th>end station id</th>\n",
       "      <th>end station name</th>\n",
       "      <th>end station latitude</th>\n",
       "      <th>end station longitude</th>\n",
       "      <th>bikeid</th>\n",
       "      <th>usertype</th>\n",
       "      <th>birth year</th>\n",
       "      <th>gender</th>\n",
       "    </tr>\n",
       "  </thead>\n",
       "  <tbody>\n",
       "    <tr>\n",
       "      <th>0</th>\n",
       "      <td>340</td>\n",
       "      <td>2017-07-01 00:00:08</td>\n",
       "      <td>2017-07-01 00:05:48</td>\n",
       "      <td>3186</td>\n",
       "      <td>Grove St PATH</td>\n",
       "      <td>40.719586</td>\n",
       "      <td>-74.043117</td>\n",
       "      <td>3267</td>\n",
       "      <td>Morris Canal</td>\n",
       "      <td>40.712419</td>\n",
       "      <td>-74.038526</td>\n",
       "      <td>29643</td>\n",
       "      <td>Subscriber</td>\n",
       "      <td>1994.0</td>\n",
       "      <td>2</td>\n",
       "    </tr>\n",
       "    <tr>\n",
       "      <th>1</th>\n",
       "      <td>439</td>\n",
       "      <td>2017-07-01 00:02:35</td>\n",
       "      <td>2017-07-01 00:09:55</td>\n",
       "      <td>3183</td>\n",
       "      <td>Exchange Place</td>\n",
       "      <td>40.716247</td>\n",
       "      <td>-74.033459</td>\n",
       "      <td>3199</td>\n",
       "      <td>Newport Pkwy</td>\n",
       "      <td>40.728745</td>\n",
       "      <td>-74.032108</td>\n",
       "      <td>29585</td>\n",
       "      <td>Subscriber</td>\n",
       "      <td>1980.0</td>\n",
       "      <td>1</td>\n",
       "    </tr>\n",
       "    <tr>\n",
       "      <th>2</th>\n",
       "      <td>186</td>\n",
       "      <td>2017-07-01 00:04:33</td>\n",
       "      <td>2017-07-01 00:07:40</td>\n",
       "      <td>3186</td>\n",
       "      <td>Grove St PATH</td>\n",
       "      <td>40.719586</td>\n",
       "      <td>-74.043117</td>\n",
       "      <td>3270</td>\n",
       "      <td>Jersey &amp; 6th St</td>\n",
       "      <td>40.725289</td>\n",
       "      <td>-74.045572</td>\n",
       "      <td>29219</td>\n",
       "      <td>Subscriber</td>\n",
       "      <td>1984.0</td>\n",
       "      <td>1</td>\n",
       "    </tr>\n",
       "    <tr>\n",
       "      <th>3</th>\n",
       "      <td>442</td>\n",
       "      <td>2017-07-01 00:05:53</td>\n",
       "      <td>2017-07-01 00:13:15</td>\n",
       "      <td>3195</td>\n",
       "      <td>Sip Ave</td>\n",
       "      <td>40.730743</td>\n",
       "      <td>-74.063784</td>\n",
       "      <td>3193</td>\n",
       "      <td>Lincoln Park</td>\n",
       "      <td>40.724605</td>\n",
       "      <td>-74.078406</td>\n",
       "      <td>29497</td>\n",
       "      <td>Subscriber</td>\n",
       "      <td>1969.0</td>\n",
       "      <td>1</td>\n",
       "    </tr>\n",
       "    <tr>\n",
       "      <th>4</th>\n",
       "      <td>170</td>\n",
       "      <td>2017-07-01 00:07:54</td>\n",
       "      <td>2017-07-01 00:10:45</td>\n",
       "      <td>3187</td>\n",
       "      <td>Warren St</td>\n",
       "      <td>40.721124</td>\n",
       "      <td>-74.038051</td>\n",
       "      <td>3186</td>\n",
       "      <td>Grove St PATH</td>\n",
       "      <td>40.719586</td>\n",
       "      <td>-74.043117</td>\n",
       "      <td>29483</td>\n",
       "      <td>Subscriber</td>\n",
       "      <td>1986.0</td>\n",
       "      <td>1</td>\n",
       "    </tr>\n",
       "  </tbody>\n",
       "</table>\n",
       "</div>"
      ],
      "text/plain": [
       "   tripduration            starttime             stoptime  start station id  \\\n",
       "0           340  2017-07-01 00:00:08  2017-07-01 00:05:48              3186   \n",
       "1           439  2017-07-01 00:02:35  2017-07-01 00:09:55              3183   \n",
       "2           186  2017-07-01 00:04:33  2017-07-01 00:07:40              3186   \n",
       "3           442  2017-07-01 00:05:53  2017-07-01 00:13:15              3195   \n",
       "4           170  2017-07-01 00:07:54  2017-07-01 00:10:45              3187   \n",
       "\n",
       "  start station name  start station latitude  start station longitude  \\\n",
       "0      Grove St PATH               40.719586               -74.043117   \n",
       "1     Exchange Place               40.716247               -74.033459   \n",
       "2      Grove St PATH               40.719586               -74.043117   \n",
       "3            Sip Ave               40.730743               -74.063784   \n",
       "4          Warren St               40.721124               -74.038051   \n",
       "\n",
       "   end station id end station name  end station latitude  \\\n",
       "0            3267     Morris Canal             40.712419   \n",
       "1            3199     Newport Pkwy             40.728745   \n",
       "2            3270  Jersey & 6th St             40.725289   \n",
       "3            3193     Lincoln Park             40.724605   \n",
       "4            3186    Grove St PATH             40.719586   \n",
       "\n",
       "   end station longitude  bikeid    usertype  birth year  gender  \n",
       "0             -74.038526   29643  Subscriber      1994.0       2  \n",
       "1             -74.032108   29585  Subscriber      1980.0       1  \n",
       "2             -74.045572   29219  Subscriber      1984.0       1  \n",
       "3             -74.078406   29497  Subscriber      1969.0       1  \n",
       "4             -74.043117   29483  Subscriber      1986.0       1  "
      ]
     },
     "execution_count": 21,
     "metadata": {},
     "output_type": "execute_result"
    }
   ],
   "source": [
    "df.head()"
   ]
  },
  {
   "cell_type": "code",
   "execution_count": 27,
   "metadata": {
    "collapsed": false
   },
   "outputs": [
    {
     "name": "stderr",
     "output_type": "stream",
     "text": [
      "/opt/rh/anaconda/root/envs/PUI2016_Python3/lib/python3.5/site-packages/numpy/lib/function_base.py:3403: RuntimeWarning: Invalid value encountered in median\n",
      "  RuntimeWarning)\n"
     ]
    },
    {
     "data": {
      "text/html": [
       "<div>\n",
       "<table border=\"1\" class=\"dataframe\">\n",
       "  <thead>\n",
       "    <tr style=\"text-align: right;\">\n",
       "      <th></th>\n",
       "      <th>tripduration</th>\n",
       "      <th>start station id</th>\n",
       "      <th>start station latitude</th>\n",
       "      <th>start station longitude</th>\n",
       "      <th>end station id</th>\n",
       "      <th>end station latitude</th>\n",
       "      <th>end station longitude</th>\n",
       "      <th>bikeid</th>\n",
       "      <th>birth year</th>\n",
       "      <th>gender</th>\n",
       "    </tr>\n",
       "  </thead>\n",
       "  <tbody>\n",
       "    <tr>\n",
       "      <th>count</th>\n",
       "      <td>33573.000000</td>\n",
       "      <td>33573.000000</td>\n",
       "      <td>33573.000000</td>\n",
       "      <td>33573.000000</td>\n",
       "      <td>33573.000000</td>\n",
       "      <td>33573.000000</td>\n",
       "      <td>33573.000000</td>\n",
       "      <td>33573.000000</td>\n",
       "      <td>30613.000000</td>\n",
       "      <td>33573.000000</td>\n",
       "    </tr>\n",
       "    <tr>\n",
       "      <th>mean</th>\n",
       "      <td>767.952313</td>\n",
       "      <td>3215.375748</td>\n",
       "      <td>40.722388</td>\n",
       "      <td>-74.046067</td>\n",
       "      <td>3211.434397</td>\n",
       "      <td>40.721945</td>\n",
       "      <td>-74.045550</td>\n",
       "      <td>28300.428469</td>\n",
       "      <td>1980.348806</td>\n",
       "      <td>1.121645</td>\n",
       "    </tr>\n",
       "    <tr>\n",
       "      <th>std</th>\n",
       "      <td>4038.930644</td>\n",
       "      <td>33.843146</td>\n",
       "      <td>0.007892</td>\n",
       "      <td>0.010625</td>\n",
       "      <td>79.019466</td>\n",
       "      <td>0.007731</td>\n",
       "      <td>0.010726</td>\n",
       "      <td>1646.539891</td>\n",
       "      <td>9.983384</td>\n",
       "      <td>0.538774</td>\n",
       "    </tr>\n",
       "    <tr>\n",
       "      <th>min</th>\n",
       "      <td>61.000000</td>\n",
       "      <td>3183.000000</td>\n",
       "      <td>40.692640</td>\n",
       "      <td>-74.096937</td>\n",
       "      <td>152.000000</td>\n",
       "      <td>40.692640</td>\n",
       "      <td>-74.096937</td>\n",
       "      <td>14529.000000</td>\n",
       "      <td>1887.000000</td>\n",
       "      <td>0.000000</td>\n",
       "    </tr>\n",
       "    <tr>\n",
       "      <th>25%</th>\n",
       "      <td>248.000000</td>\n",
       "      <td>3187.000000</td>\n",
       "      <td>40.716540</td>\n",
       "      <td>-74.050389</td>\n",
       "      <td>3186.000000</td>\n",
       "      <td>40.716247</td>\n",
       "      <td>-74.049638</td>\n",
       "      <td>26275.000000</td>\n",
       "      <td>NaN</td>\n",
       "      <td>1.000000</td>\n",
       "    </tr>\n",
       "    <tr>\n",
       "      <th>50%</th>\n",
       "      <td>384.000000</td>\n",
       "      <td>3203.000000</td>\n",
       "      <td>40.721124</td>\n",
       "      <td>-74.043991</td>\n",
       "      <td>3202.000000</td>\n",
       "      <td>40.719586</td>\n",
       "      <td>-74.043117</td>\n",
       "      <td>29266.000000</td>\n",
       "      <td>NaN</td>\n",
       "      <td>1.000000</td>\n",
       "    </tr>\n",
       "    <tr>\n",
       "      <th>75%</th>\n",
       "      <td>676.000000</td>\n",
       "      <td>3225.000000</td>\n",
       "      <td>40.727224</td>\n",
       "      <td>-74.038526</td>\n",
       "      <td>3214.000000</td>\n",
       "      <td>40.727224</td>\n",
       "      <td>-74.038051</td>\n",
       "      <td>29521.000000</td>\n",
       "      <td>NaN</td>\n",
       "      <td>1.000000</td>\n",
       "    </tr>\n",
       "    <tr>\n",
       "      <th>max</th>\n",
       "      <td>485426.000000</td>\n",
       "      <td>3281.000000</td>\n",
       "      <td>40.752559</td>\n",
       "      <td>-74.032108</td>\n",
       "      <td>3474.000000</td>\n",
       "      <td>40.777507</td>\n",
       "      <td>-73.967510</td>\n",
       "      <td>29682.000000</td>\n",
       "      <td>2001.000000</td>\n",
       "      <td>2.000000</td>\n",
       "    </tr>\n",
       "  </tbody>\n",
       "</table>\n",
       "</div>"
      ],
      "text/plain": [
       "        tripduration  start station id  start station latitude  \\\n",
       "count   33573.000000      33573.000000            33573.000000   \n",
       "mean      767.952313       3215.375748               40.722388   \n",
       "std      4038.930644         33.843146                0.007892   \n",
       "min        61.000000       3183.000000               40.692640   \n",
       "25%       248.000000       3187.000000               40.716540   \n",
       "50%       384.000000       3203.000000               40.721124   \n",
       "75%       676.000000       3225.000000               40.727224   \n",
       "max    485426.000000       3281.000000               40.752559   \n",
       "\n",
       "       start station longitude  end station id  end station latitude  \\\n",
       "count             33573.000000    33573.000000          33573.000000   \n",
       "mean                -74.046067     3211.434397             40.721945   \n",
       "std                   0.010625       79.019466              0.007731   \n",
       "min                 -74.096937      152.000000             40.692640   \n",
       "25%                 -74.050389     3186.000000             40.716247   \n",
       "50%                 -74.043991     3202.000000             40.719586   \n",
       "75%                 -74.038526     3214.000000             40.727224   \n",
       "max                 -74.032108     3474.000000             40.777507   \n",
       "\n",
       "       end station longitude        bikeid    birth year        gender  \n",
       "count           33573.000000  33573.000000  30613.000000  33573.000000  \n",
       "mean              -74.045550  28300.428469   1980.348806      1.121645  \n",
       "std                 0.010726   1646.539891      9.983384      0.538774  \n",
       "min               -74.096937  14529.000000   1887.000000      0.000000  \n",
       "25%               -74.049638  26275.000000           NaN      1.000000  \n",
       "50%               -74.043117  29266.000000           NaN      1.000000  \n",
       "75%               -74.038051  29521.000000           NaN      1.000000  \n",
       "max               -73.967510  29682.000000   2001.000000      2.000000  "
      ]
     },
     "execution_count": 27,
     "metadata": {},
     "output_type": "execute_result"
    }
   ],
   "source": [
    "df.describe()"
   ]
  },
  {
   "cell_type": "markdown",
   "metadata": {},
   "source": [
    "# IDEA:\n",
    "### Tourists (notated as \"customers\" in the data set) pay for 24 hour pass or 3 hour pass use citibikes for longer durations than annual subscribers because tourists want to maximize their short term pass values. \n",
    "\n",
    "# NULL HYPOTHESIS:\n",
    "## The ratio of customers biking for longer than or equal to 700 seconds of duration over customers biking for less than 700s of duration is larger or equal to the ratio of subscribers biking biking for longer than or equal to 700 seconds of duration over customers biking for less than 700s of duration\n",
    "\n",
    "# _$H_0$_ : $\\frac{C_{\\mathrm{>= 700s}}}{C_{\\mathrm{<700s}}} >= \\frac{S_{\\mathrm{>=700}}}{S_{\\mathrm{<700s}}}$\n",
    "# _$H_1$_ : $\\frac{C_{\\mathrm{>= 700s}}}{C_{\\mathrm{<700s}}} < \\frac{S_{\\mathrm{>=700}}}{S_{\\mathrm{<700s}}}$\n",
    "\n",
    "\n",
    "## I will use a significance level  $\\alpha=0.05$\n",
    "\n",
    "#### which means i want the probability of getting a result at least as significant as mine to be less then 5%"
   ]
  },
  {
   "cell_type": "markdown",
   "metadata": {},
   "source": [
    "## I am starting with a single month of data:  reading data from citibike csv file from July 2017\n",
    "\n",
    "As shown above, I read the data set into a dataframe called \"df\", and I will collect the trip duration column and the usertype column to conduct further analysis"
   ]
  },
  {
   "cell_type": "code",
   "execution_count": 38,
   "metadata": {
    "collapsed": false
   },
   "outputs": [
    {
     "data": {
      "text/html": [
       "<div>\n",
       "<table border=\"1\" class=\"dataframe\">\n",
       "  <thead>\n",
       "    <tr style=\"text-align: right;\">\n",
       "      <th></th>\n",
       "      <th>tripduration</th>\n",
       "      <th>usertype</th>\n",
       "      <th>over_700s</th>\n",
       "    </tr>\n",
       "  </thead>\n",
       "  <tbody>\n",
       "    <tr>\n",
       "      <th>0</th>\n",
       "      <td>340</td>\n",
       "      <td>Subscriber</td>\n",
       "      <td>False</td>\n",
       "    </tr>\n",
       "    <tr>\n",
       "      <th>1</th>\n",
       "      <td>439</td>\n",
       "      <td>Subscriber</td>\n",
       "      <td>False</td>\n",
       "    </tr>\n",
       "    <tr>\n",
       "      <th>2</th>\n",
       "      <td>186</td>\n",
       "      <td>Subscriber</td>\n",
       "      <td>False</td>\n",
       "    </tr>\n",
       "    <tr>\n",
       "      <th>3</th>\n",
       "      <td>442</td>\n",
       "      <td>Subscriber</td>\n",
       "      <td>False</td>\n",
       "    </tr>\n",
       "    <tr>\n",
       "      <th>4</th>\n",
       "      <td>170</td>\n",
       "      <td>Subscriber</td>\n",
       "      <td>False</td>\n",
       "    </tr>\n",
       "  </tbody>\n",
       "</table>\n",
       "</div>"
      ],
      "text/plain": [
       "   tripduration    usertype over_700s\n",
       "0           340  Subscriber     False\n",
       "1           439  Subscriber     False\n",
       "2           186  Subscriber     False\n",
       "3           442  Subscriber     False\n",
       "4           170  Subscriber     False"
      ]
     },
     "execution_count": 38,
     "metadata": {},
     "output_type": "execute_result"
    }
   ],
   "source": [
    "df = df[['tripduration', 'usertype']]\n",
    "df['over_700s'] = df.tripduration >= 700\n",
    "df.head(5)"
   ]
  },
  {
   "cell_type": "code",
   "execution_count": 49,
   "metadata": {
    "collapsed": false
   },
   "outputs": [
    {
     "data": {
      "text/html": [
       "<div>\n",
       "<table border=\"1\" class=\"dataframe\">\n",
       "  <thead>\n",
       "    <tr style=\"text-align: right;\">\n",
       "      <th>usertype</th>\n",
       "      <th>Customer</th>\n",
       "      <th>Subscriber</th>\n",
       "    </tr>\n",
       "    <tr>\n",
       "      <th>over_700s</th>\n",
       "      <th></th>\n",
       "      <th></th>\n",
       "    </tr>\n",
       "  </thead>\n",
       "  <tbody>\n",
       "    <tr>\n",
       "      <th>False</th>\n",
       "      <td>685</td>\n",
       "      <td>24919</td>\n",
       "    </tr>\n",
       "    <tr>\n",
       "      <th>True</th>\n",
       "      <td>1943</td>\n",
       "      <td>6026</td>\n",
       "    </tr>\n",
       "  </tbody>\n",
       "</table>\n",
       "</div>"
      ],
      "text/plain": [
       "usertype   Customer  Subscriber\n",
       "over_700s                      \n",
       "False           685       24919\n",
       "True           1943        6026"
      ]
     },
     "execution_count": 49,
     "metadata": {},
     "output_type": "execute_result"
    }
   ],
   "source": [
    "df.groupby(['over_700s','usertype']).size().unstack()"
   ]
  },
  {
   "cell_type": "markdown",
   "metadata": {},
   "source": [
    "## Add visualization here"
   ]
  },
  {
   "cell_type": "code",
   "execution_count": 67,
   "metadata": {
    "collapsed": false
   },
   "outputs": [
    {
     "data": {
      "text/plain": [
       "<matplotlib.text.Text at 0x7f811c5d3860>"
      ]
     },
     "execution_count": 67,
     "metadata": {},
     "output_type": "execute_result"
    },
    {
     "data": {
      "image/png": "[encoded data removed]",
      "text/plain": [
       "<matplotlib.figure.Figure at 0x7f811c5ab780>"
      ]
     },
     "metadata": {},
     "output_type": "display_data"
    }
   ],
   "source": [
    "ax1 = pl.subplot()\n",
    "byusertype = df.groupby(['over_700s','usertype']).size().unstack()\n",
    "byusertype.columns = ['Custumer', 'Subscriber']\n",
    "byusertype.plot(kind = 'bar',stacked = True, ax = ax1, width = 0.9)\n",
    "ax1.set_xlabel('Trip duration over 700 seconds', fontsize=10)\n",
    "ax1.set_ylabel('Counts', fontsize=10)\n",
    "ax1.set_title('Stacked barplot by usertype for whether the trip duration is over 700s or not', fontsize=10)"
   ]
  },
  {
   "cell_type": "markdown",
   "metadata": {},
   "source": [
    "$Z = \\frac{\\mu_{pop} - \\mu_{sample}}{\\sigma / \\sqrt{N}} $"
   ]
  },
  {
   "cell_type": "code",
   "execution_count": null,
   "metadata": {
    "collapsed": true
   },
   "outputs": [],
   "source": [
    "p = lambda p0, p1, n0, n1: (p0 * n0 + p1 * n1) / (n0 + n1)\n",
    "se = lambda p, n0, n1: np.sqrt(p * (1 - p) * (1.0 / n0 + 1.0 / n1)) #standard error\n",
    "zscore = lambda p0, p1, s : (p0 - p1) / s\n",
    "\n",
    "# calculations\n",
    "\n",
    "sp_stdev_mw = se(p(weekend_w, weekend_m, norm_w, norm_m), norm_w, norm_m)\n",
    "# print (sp_stdev_mw)\n",
    "z = zscore(weekend_w, weekend_m, sp_stdev_mw)\n",
    "print (\"The z statistics is %.2f\"%z)"
   ]
  },
  {
   "cell_type": "code",
   "execution_count": null,
   "metadata": {
    "collapsed": true
   },
   "outputs": [],
   "source": []
  }
 ],
 "metadata": {
  "anaconda-cloud": {},
  "kernelspec": {
   "display_name": "PUI2016_Python3",
   "language": "python",
   "name": "pui2016_python3"
  },
  "language_info": {
   "codemirror_mode": {
    "name": "ipython",
    "version": 3
   },
   "file_extension": ".py",
   "mimetype": "text/x-python",
   "name": "python",
   "nbconvert_exporter": "python",
   "pygments_lexer": "ipython3",
   "version": "3.5.2"
  }
 },
 "nbformat": 4,
 "nbformat_minor": 0
}
